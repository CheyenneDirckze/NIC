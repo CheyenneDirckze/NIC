{
 "cells": [
  {
   "cell_type": "markdown",
   "metadata": {},
   "source": [
    "### Importing relevant libraries"
   ]
  },
  {
   "cell_type": "code",
   "execution_count": 1,
   "metadata": {},
   "outputs": [],
   "source": [
    "import matplotlib.pyplot as plt\n",
    "import seaborn as sns\n",
    "import numpy as np\n",
    "import pandas as pd\n",
    "%matplotlib inline"
   ]
  },
  {
   "cell_type": "markdown",
   "metadata": {},
   "source": [
    "### Transforming test dataset"
   ]
  },
  {
   "cell_type": "code",
   "execution_count": 2,
   "metadata": {},
   "outputs": [],
   "source": [
    "df1 = pd.read_csv('Train data.txt')"
   ]
  },
  {
   "cell_type": "code",
   "execution_count": 3,
   "metadata": {},
   "outputs": [],
   "source": [
    "#Carefuly chose header names by comparing against train data with notepad++\n",
    "\n",
    "df2 = pd.read_csv('Test data.txt', header = None, names = ['customerID','gender', 'Senior Citizen', 'tenure', 'InternetService', 'Contract','PaymentMethod','MonthlyCharges', 'TotalCharges'])"
   ]
  },
  {
   "cell_type": "code",
   "execution_count": 4,
   "metadata": {},
   "outputs": [
    {
     "data": {
      "text/html": [
       "<div>\n",
       "<style scoped>\n",
       "    .dataframe tbody tr th:only-of-type {\n",
       "        vertical-align: middle;\n",
       "    }\n",
       "\n",
       "    .dataframe tbody tr th {\n",
       "        vertical-align: top;\n",
       "    }\n",
       "\n",
       "    .dataframe thead th {\n",
       "        text-align: right;\n",
       "    }\n",
       "</style>\n",
       "<table border=\"1\" class=\"dataframe\">\n",
       "  <thead>\n",
       "    <tr style=\"text-align: right;\">\n",
       "      <th></th>\n",
       "      <th>customerID</th>\n",
       "      <th>gender</th>\n",
       "      <th>Senior Citizen</th>\n",
       "      <th>tenure</th>\n",
       "      <th>InternetService</th>\n",
       "      <th>Contract</th>\n",
       "      <th>PaymentMethod</th>\n",
       "      <th>MonthlyCharges</th>\n",
       "      <th>TotalCharges</th>\n",
       "    </tr>\n",
       "  </thead>\n",
       "  <tbody>\n",
       "    <tr>\n",
       "      <th>0</th>\n",
       "      <td>9398-MMQTO</td>\n",
       "      <td>Male</td>\n",
       "      <td>0</td>\n",
       "      <td>3</td>\n",
       "      <td>Fiber optic</td>\n",
       "      <td>Month-to-month</td>\n",
       "      <td>Credit card (automatic)</td>\n",
       "      <td>74.45</td>\n",
       "      <td>221.10</td>\n",
       "    </tr>\n",
       "    <tr>\n",
       "      <th>1</th>\n",
       "      <td>7619-PLRLP</td>\n",
       "      <td>Female</td>\n",
       "      <td>0</td>\n",
       "      <td>53</td>\n",
       "      <td>DSL</td>\n",
       "      <td>One year</td>\n",
       "      <td>Bank transfer (automatic)</td>\n",
       "      <td>74.1</td>\n",
       "      <td>3833.95</td>\n",
       "    </tr>\n",
       "    <tr>\n",
       "      <th>2</th>\n",
       "      <td>6457-GIRWB</td>\n",
       "      <td>Male</td>\n",
       "      <td>0</td>\n",
       "      <td>1</td>\n",
       "      <td>Fiber optic</td>\n",
       "      <td>Month-to-month</td>\n",
       "      <td>Electronic check</td>\n",
       "      <td>69.35</td>\n",
       "      <td>69.35</td>\n",
       "    </tr>\n",
       "    <tr>\n",
       "      <th>3</th>\n",
       "      <td>6508-NJYRO</td>\n",
       "      <td>Male</td>\n",
       "      <td>0</td>\n",
       "      <td>15 internet service internet service internet ...</td>\n",
       "      <td>One year</td>\n",
       "      <td>Mailed check</td>\n",
       "      <td>18.8</td>\n",
       "      <td>294.95</td>\n",
       "      <td>NaN</td>\n",
       "    </tr>\n",
       "    <tr>\n",
       "      <th>4</th>\n",
       "      <td>1450-SKCVI</td>\n",
       "      <td>Female</td>\n",
       "      <td>0</td>\n",
       "      <td>56</td>\n",
       "      <td>Fiber optic</td>\n",
       "      <td>Month-to-month</td>\n",
       "      <td>Electronic check</td>\n",
       "      <td>73.85</td>\n",
       "      <td>4092.85</td>\n",
       "    </tr>\n",
       "  </tbody>\n",
       "</table>\n",
       "</div>"
      ],
      "text/plain": [
       "   customerID  gender  Senior Citizen  \\\n",
       "0  9398-MMQTO    Male               0   \n",
       "1  7619-PLRLP  Female               0   \n",
       "2  6457-GIRWB    Male               0   \n",
       "3  6508-NJYRO    Male               0   \n",
       "4  1450-SKCVI  Female               0   \n",
       "\n",
       "                                              tenure InternetService  \\\n",
       "0                                                  3     Fiber optic   \n",
       "1                                                 53             DSL   \n",
       "2                                                  1     Fiber optic   \n",
       "3  15 internet service internet service internet ...        One year   \n",
       "4                                                 56     Fiber optic   \n",
       "\n",
       "         Contract              PaymentMethod MonthlyCharges  TotalCharges  \n",
       "0  Month-to-month    Credit card (automatic)          74.45        221.10  \n",
       "1        One year  Bank transfer (automatic)           74.1       3833.95  \n",
       "2  Month-to-month           Electronic check          69.35         69.35  \n",
       "3    Mailed check                       18.8         294.95           NaN  \n",
       "4  Month-to-month           Electronic check          73.85       4092.85  "
      ]
     },
     "execution_count": 4,
     "metadata": {},
     "output_type": "execute_result"
    }
   ],
   "source": [
    "df2.head()"
   ]
  },
  {
   "cell_type": "markdown",
   "metadata": {},
   "source": [
    "Visible skew of data from tenure column"
   ]
  },
  {
   "cell_type": "code",
   "execution_count": 5,
   "metadata": {},
   "outputs": [
    {
     "data": {
      "text/plain": [
       "customerID           0\n",
       "gender               0\n",
       "Senior Citizen       0\n",
       "tenure               0\n",
       "InternetService      0\n",
       "Contract             0\n",
       "PaymentMethod        0\n",
       "MonthlyCharges       0\n",
       "TotalCharges       273\n",
       "dtype: int64"
      ]
     },
     "execution_count": 5,
     "metadata": {},
     "output_type": "execute_result"
    }
   ],
   "source": [
    "df2.isnull().sum()"
   ]
  },
  {
   "cell_type": "markdown",
   "metadata": {},
   "source": [
    "Skew results in 273 missing values for 'Total charges' column"
   ]
  },
  {
   "cell_type": "code",
   "execution_count": 6,
   "metadata": {},
   "outputs": [
    {
     "name": "stdout",
     "output_type": "stream",
     "text": [
      "Missing value percentage: 19.941563184806427 %\n"
     ]
    }
   ],
   "source": [
    "a= (df2.isnull().sum()['TotalCharges']/df2.shape[0])*100\n",
    "print('Missing value percentage:', a, '%')"
   ]
  },
  {
   "cell_type": "code",
   "execution_count": 7,
   "metadata": {},
   "outputs": [],
   "source": [
    "#dropping rows containing missing values to save time cleaning data\n",
    "df2.dropna(inplace = True)"
   ]
  },
  {
   "cell_type": "code",
   "execution_count": 8,
   "metadata": {},
   "outputs": [
    {
     "name": "stdout",
     "output_type": "stream",
     "text": [
      "['9398-MMQTO' '7619-PLRLP' '6457-GIRWB' ... '1941-HOSAM' '9110-HSGTV'\n",
      " '6171-ZTVYB']\n",
      "['Male' 'Female']\n",
      "[0 1]\n",
      "['3' '53' '1' '56' '5' '48' '58' '10' '71' '65' '28 phone service' '67'\n",
      " '35' '72 phone service' '61 phone service' '1 phone service' '70'\n",
      " '48 phone service' '68' '47' '32 phone service' '13' '12' '9' '38' '42'\n",
      " '24' '27' '49 phone service' '61' '50 phone service' '25' '22' '4' '18'\n",
      " '51' '62' '16 phone service' '8' '72' '23' '31 phone service'\n",
      " '37 phone service' '30' '20' '36' '50' '57' '41' '3 phone service' '64'\n",
      " '26 phone service' '40' '34' '63' '44' '6 phone service' '33' '43' '6'\n",
      " '59' '14' '19' '2' '57 phone service' '66 phone service'\n",
      " '24 phone service' '31' '54' '10 phone service' '11' '15' '32'\n",
      " '67 phone service' '29 phone service' '45' '16' '52' '21'\n",
      " '14 phone service' '68 phone service' '29' '69 phone service' '17' '46'\n",
      " '7' '66' '23 phone service' '37' '21 phone service' '27 phone service'\n",
      " '55' '42 phone service' '33 phone service' '69' '60' '13 phone service'\n",
      " '7 phone service' '49' '44 phone service' '39' '71 phone service'\n",
      " '4 phone service' '28' '26' '12 phone service' '5 phone service'\n",
      " '22 phone service' '60 phone service' '70 phone service'\n",
      " '19 phone service' '41 phone service' '36 phone service'\n",
      " '45 phone service' '2 phone service' '52 phone service'\n",
      " '46 phone service' '40 phone service' '8 phone service'\n",
      " '35 phone service' '54 phone service' '9 phone service'\n",
      " '62 phone service' '58 phone service' '51 phone service'\n",
      " '53 phone service' '47 phone service' '11 phone service'\n",
      " '55 phone service' '43 phone service']\n",
      "['Fiber optic' 'DSL']\n",
      "['Month-to-month' 'One year' 'Two year']\n",
      "['Credit card (automatic)' 'Bank transfer (automatic)' 'Electronic check'\n",
      " 'Mailed check']\n",
      "['74.45' '74.1' '69.35' '73.85' '64.4' '55.8' '75.15' '99.15' '56.75'\n",
      " '69.6' '104.15' '110.8' '80.15' '35.75' '69.9' '89.2' '55.65' '50.7'\n",
      " '30.5' '98.3' '45.55' '101.05' '103.7' '36.25' '49.4' '107.4' '82'\n",
      " '45.05' '64.55' '86.25' '89.1' '95.55' '75.4' '101.25' '102.6' '56.3'\n",
      " '94.2' '43.05' '89.5' '74.4' '74.35' '99.75' '111.95' '94' '98.85'\n",
      " '64.35' '72' '49.7' '80.7' '24.2' '39' '65.45' '83.2' '25' '40.2' '94.1'\n",
      " '108.35' '69.5' '76' '93.6' '95.65' '100.55' '88.05' '89.55' '66.5'\n",
      " '76.1' '80.5' '35.45' '49.9' '105.4' '95.1' '104.5' '63.1' '75.05' '81'\n",
      " '60.4' '84.95' '93.4' '85.2' '49.95' '70.65' '59.8' '104.95' '103.5'\n",
      " '84.8' '95.05' '44.2' '73.35' '64.1' '44.4' '29.95' '45.3' '84.5' '74.75'\n",
      " '79.25' '24.8' '51.8' '30.4' '56.6' '71.9' '91' '109.7' '96.55' '111.35'\n",
      " '112.25' '101.9' '80.05' '105.55' '78.3' '68.85' '79.95' '55.45' '79.9'\n",
      " '106.6' '102.45' '46' '25.25' '86.8' '58.75' '45.25' '84.2' '80' '70.15'\n",
      " '50.05' '50.6' '81.15' '55.2' '89.9' '85.3' '108' '93.5' '84.6' '54.4'\n",
      " '29.6' '73.15' '95' '86.6' '109.2' '74.7' '94.4' '54.8' '75.35' '65'\n",
      " '48.55' '99' '70.4' '83.7' '59.55' '115.1' '114.35' '44.6' '45' '41.15'\n",
      " '106.9' '89.85' '49.85' '113.3' '88.1' '105' '94.45' '59.75' '107.05'\n",
      " '70.6' '85.4' '105.05' '64.95' '55' '50.55' '55.15' '51.2' '54.45'\n",
      " '95.15' '44.35' '70' '74.5' '44.85' '61.2' '89.35' '76.05' '100.8'\n",
      " '74.55' '73.6' '64.9' '95.45' '90.4' '60.3' '81.85' '74.9' '75.55'\n",
      " '101.15' '78.75' '89.05' '115.05' '80.6' '110.05' '80.3' '93.15' '91.5'\n",
      " '82.45' '60' '44.8' '48.6' '60.05' '102.7' '82.9' '70.35' '35.9' '82.65'\n",
      " '94.9' '75.8' '104.6' '88.15' '94.8' '103.4' '54.65' '85.75' '67.45'\n",
      " '72.1' '44.95' '97' '62.8' '89.15' '41.9' '80.25' '54.1' '105.25' '30.75'\n",
      " '97.1' '98.8' '50.3' '75.9' '96.5' '59.95' '98.65' '112.6' '85.65' '96.1'\n",
      " '85.1' '25.35' '89.65' '86.75' '86.2' '50.65' '64.8' '90.85' '108.1'\n",
      " '85.45' '54.75' '44' '95.6' '44.3' '90.05' '109.9' '73.95' '54.6' '99.45'\n",
      " '55.9' '95.4' '93.95' '81.35' '74.95' '87.35' '73.25' '98.7' '83.3'\n",
      " '75.3' '69.85' '40.7' '51.65' '105.1' '85.95' '75.6' '58.25' '65.2'\n",
      " '79.05' '108.05' '30.15' '79.85' '65.5' '104.1' '91.35' '99.05' '55.1'\n",
      " '58.95' '44.7' '81.75' '86.1' '29.8' '60.9' '45.7' '100.3' '77.35' '96'\n",
      " '90.55' '93.85' '70.1' '30.35' '75.95' '75.25' '103.75' '54.95' '47.85'\n",
      " '43.8' '94.3' '70.3' '95.35' '75.5' '69.55' '95.85' '90.1' '68.95'\n",
      " '99.55' '50.15' '58.65' '95.9' '49.5' '57.45' '53.65' '80.1' '40.05'\n",
      " '51.05' '54.35' '84.7' '110' '100.6' '83.75' '88.3' '69.75' '71.6' '92.1'\n",
      " '114.7' '49.15' '80.9' '79.45' '90.45' '70.2' '54.25' '99.3' '74' '50.25'\n",
      " '43.65' '35.5' '80.75' '39.5' '90.6' '112.4' '50.2' '62.25' '55.7'\n",
      " '89.25' '54' '49.05' '98.05' '96.65' '114.5' '79.2' '80.95' '74.3' '89.7'\n",
      " '87.65' '100.45' '107.45' '68.5' '80.55' '81.25' '56.15' '105.2' '79.75'\n",
      " '97.45' '39.6' '78.95' '53.85' '89.45' '59.5' '70.55' '82.5' '61.6'\n",
      " '105.65' '74.65' '66.25' '86.05' '64.7' '104.05' '81.95' '114.65' '65.15'\n",
      " '88.95' '75.2' '56.8' '35.55' '35.6' '60.25' '40.35' '54.85' '69.7'\n",
      " '38.55' '53.1' '64.45' '76.35' '79.15' '85' '79.35' '98.35' '51.35'\n",
      " '45.65' '86.55' '54.2' '90.65' '50.9' '74.85' '63.55' '47.95' '45.1'\n",
      " '108.65' '66.4' '35.1' '46.2' '45.15' '43.3' '57.15' '58.9' '73.2'\n",
      " '85.35' '45.95' '50.5' '60.7' '104.4' '44.05' '93.8' '86.45' '114.1'\n",
      " '95.2' '88.55' '70.05' '86' '44.65' '60.2' '100.5' '72.65' '31.1' '50.95'\n",
      " '69.1' '43.95' '86.5' '69.95' '50.4' '90.95' '92' '36' '78.5' '106.1'\n",
      " '95.5' '64.6' '51.1' '60.35' '99.8' '107.35' '81.05' '111.8' '79.1'\n",
      " '60.5' '71.5' '49.8' '25.5' '90.25' '91.85' '75.45' '101.3' '84.85'\n",
      " '34.25' '88.6' '60.15' '99.95' '70.7' '49.55' '78.6' '53.6' '81.1' '85.6'\n",
      " '80.8' '93.55' '90.7' '95.25' '102.1' '80.85' '90.9' '29.2' '93.3'\n",
      " '108.85' '46.35' '84.75' '83.55' '67.85' '45.2' '47.15' '80.2' '87.1'\n",
      " '85.7' '98.75' '61.8' '108.15' '95.7' '116.85' '105.75' '60.95' '25.05'\n",
      " '63.95' '90.8' '69.65' '110.5' '24.7' '77.4' '96.8' '47.6' '103.85'\n",
      " '83.35' '108.45' '86.65' '92.95' '90.35' '48.7' '76.4' '103.15' '100.75'\n",
      " '59.1' '71.35' '55.85' '106.05' '84.1' '93.2' '33.65' '39.7' '29.5'\n",
      " '79.55' '94.05' '90.75' '78.85' '99.5' '99.2' '59.45' '93.35' '59.4'\n",
      " '61.9' '118.65' '75.85' '80.45' '24.95' '98.1' '108.9' '56.2' '109.65'\n",
      " '48.85' '56.05' '89.8' '100.95' '104.9' '24.1' '59.85' '36.65' '103.9'\n",
      " '88.35' '109.55' '94.65' '61.4' '70.75' '61.15' '63.85' '84.4' '25.1'\n",
      " '48.25' '99.6' '62.15' '79.3' '56.25' '85.9' '63.8' '101.4' '63.75'\n",
      " '109.25' '91.1' '107.95' '94.7' '87' '102.95' '64' '90.15' '116.1' '71'\n",
      " '50' '79.7' '59' '63.4' '53.95' '69.25' '70.95' '48.8' '89' '99.4' '73.5'\n",
      " '63.9' '64.85' '44.45' '43.35' '53.9' '85.05' '44.1' '90.2' '50.85'\n",
      " '59.2' '53.45' '54.9' '57.5' '94.15' '55.6' '84.45' '73.75' '96.05'\n",
      " '68.4' '107.6' '61.55' '99.25' '91.7' '100.7' '78.45' '84.3' '113.65'\n",
      " '53.4' '87.8' '83' '92.15' '58.35' '69.8' '95.95' '107.75' '71.3' '60.8'\n",
      " '98.15' '35.35' '81.4' '61.45' '104.8' '97.65' '35.65' '85.25' '88.8'\n",
      " '86.95' '94.75' '105.45' '102.55' '100.2' '74.05' '98.25' '101.55'\n",
      " '103.1' '34.2' '43.75' '100.65' '55.95' '116.05' '45.75' '79.8' '88.85'\n",
      " '106.85' '56.1' '51.3' '118.6' '115.5' '109.1' '111.3' '29.9' '35.2'\n",
      " '78.8' '89.95' '106.4' '115.25' '86.4' '66.3' '82.05' '34.7' '109.4'\n",
      " '71.05' '78.55' '40.25' '68.25' '78.65' '25.15' '42.9' '58.5' '88.9'\n",
      " '57.65' '96.2' '45.9' '105.3' '61.35' '57.55' '29.25' '84.55' '111.75'\n",
      " '40.1' '110.3' '73.9' '85.15' '72.25' '73.55' '58.55' '86.35' '110.1'\n",
      " '65.6' '82.1' '75.75' '80.35' '84.05' '78.25' '114.75' '96.25' '101.1'\n",
      " '104.7' '77.9' '110.45' '68.7' '86.9' '59.65' '55.25' '53.75' '56.9'\n",
      " '89.3' '109.6' '66.75' '79.65' '59.7' '33.7' '108.75' '41.1' '105.9'\n",
      " '40.45' '70.45' '83.65']\n",
      "[ 221.1  3833.95   69.35 ...   90.1  5555.3  2907.35]\n"
     ]
    }
   ],
   "source": [
    "#Checking for extaordinary unique values in all columns\n",
    "for i in df2.columns:\n",
    "    print(df2[i].unique())"
   ]
  },
  {
   "cell_type": "markdown",
   "metadata": {},
   "source": [
    "Tenure columns seems like it needs more cleaning"
   ]
  },
  {
   "cell_type": "code",
   "execution_count": 9,
   "metadata": {},
   "outputs": [],
   "source": [
    "#Applying a simple split method to extract numerical value\n",
    "df2['tenure'] = df2['tenure'].apply(lambda a: a.split()[0])"
   ]
  },
  {
   "cell_type": "code",
   "execution_count": 10,
   "metadata": {},
   "outputs": [
    {
     "data": {
      "text/plain": [
       "array(['3', '53', '1', '56', '5', '48', '58', '10', '71', '65', '28',\n",
       "       '67', '35', '72', '61', '70', '68', '47', '32', '13', '12', '9',\n",
       "       '38', '42', '24', '27', '49', '50', '25', '22', '4', '18', '51',\n",
       "       '62', '16', '8', '23', '31', '37', '30', '20', '36', '57', '41',\n",
       "       '64', '26', '40', '34', '63', '44', '6', '33', '43', '59', '14',\n",
       "       '19', '2', '66', '54', '11', '15', '29', '45', '52', '21', '69',\n",
       "       '17', '46', '7', '55', '60', '39'], dtype=object)"
      ]
     },
     "execution_count": 10,
     "metadata": {},
     "output_type": "execute_result"
    }
   ],
   "source": [
    "#checking values\n",
    "df2['tenure'].unique()"
   ]
  },
  {
   "cell_type": "code",
   "execution_count": 11,
   "metadata": {},
   "outputs": [
    {
     "data": {
      "text/html": [
       "<div>\n",
       "<style scoped>\n",
       "    .dataframe tbody tr th:only-of-type {\n",
       "        vertical-align: middle;\n",
       "    }\n",
       "\n",
       "    .dataframe tbody tr th {\n",
       "        vertical-align: top;\n",
       "    }\n",
       "\n",
       "    .dataframe thead th {\n",
       "        text-align: right;\n",
       "    }\n",
       "</style>\n",
       "<table border=\"1\" class=\"dataframe\">\n",
       "  <thead>\n",
       "    <tr style=\"text-align: right;\">\n",
       "      <th></th>\n",
       "      <th>customerID</th>\n",
       "      <th>gender</th>\n",
       "      <th>Senior Citizen</th>\n",
       "      <th>tenure</th>\n",
       "      <th>InternetService</th>\n",
       "      <th>Contract</th>\n",
       "      <th>PaymentMethod</th>\n",
       "      <th>MonthlyCharges</th>\n",
       "      <th>TotalCharges</th>\n",
       "    </tr>\n",
       "  </thead>\n",
       "  <tbody>\n",
       "    <tr>\n",
       "      <th>0</th>\n",
       "      <td>9398-MMQTO</td>\n",
       "      <td>Male</td>\n",
       "      <td>0</td>\n",
       "      <td>3</td>\n",
       "      <td>Fiber optic</td>\n",
       "      <td>Month-to-month</td>\n",
       "      <td>Credit card (automatic)</td>\n",
       "      <td>74.45</td>\n",
       "      <td>221.10</td>\n",
       "    </tr>\n",
       "    <tr>\n",
       "      <th>1</th>\n",
       "      <td>7619-PLRLP</td>\n",
       "      <td>Female</td>\n",
       "      <td>0</td>\n",
       "      <td>53</td>\n",
       "      <td>DSL</td>\n",
       "      <td>One year</td>\n",
       "      <td>Bank transfer (automatic)</td>\n",
       "      <td>74.1</td>\n",
       "      <td>3833.95</td>\n",
       "    </tr>\n",
       "    <tr>\n",
       "      <th>2</th>\n",
       "      <td>6457-GIRWB</td>\n",
       "      <td>Male</td>\n",
       "      <td>0</td>\n",
       "      <td>1</td>\n",
       "      <td>Fiber optic</td>\n",
       "      <td>Month-to-month</td>\n",
       "      <td>Electronic check</td>\n",
       "      <td>69.35</td>\n",
       "      <td>69.35</td>\n",
       "    </tr>\n",
       "    <tr>\n",
       "      <th>4</th>\n",
       "      <td>1450-SKCVI</td>\n",
       "      <td>Female</td>\n",
       "      <td>0</td>\n",
       "      <td>56</td>\n",
       "      <td>Fiber optic</td>\n",
       "      <td>Month-to-month</td>\n",
       "      <td>Electronic check</td>\n",
       "      <td>73.85</td>\n",
       "      <td>4092.85</td>\n",
       "    </tr>\n",
       "    <tr>\n",
       "      <th>5</th>\n",
       "      <td>4710-NKCAW</td>\n",
       "      <td>Male</td>\n",
       "      <td>0</td>\n",
       "      <td>5</td>\n",
       "      <td>DSL</td>\n",
       "      <td>Month-to-month</td>\n",
       "      <td>Credit card (automatic)</td>\n",
       "      <td>64.4</td>\n",
       "      <td>316.90</td>\n",
       "    </tr>\n",
       "  </tbody>\n",
       "</table>\n",
       "</div>"
      ],
      "text/plain": [
       "   customerID  gender  Senior Citizen tenure InternetService        Contract  \\\n",
       "0  9398-MMQTO    Male               0      3     Fiber optic  Month-to-month   \n",
       "1  7619-PLRLP  Female               0     53             DSL        One year   \n",
       "2  6457-GIRWB    Male               0      1     Fiber optic  Month-to-month   \n",
       "4  1450-SKCVI  Female               0     56     Fiber optic  Month-to-month   \n",
       "5  4710-NKCAW    Male               0      5             DSL  Month-to-month   \n",
       "\n",
       "               PaymentMethod MonthlyCharges  TotalCharges  \n",
       "0    Credit card (automatic)          74.45        221.10  \n",
       "1  Bank transfer (automatic)           74.1       3833.95  \n",
       "2           Electronic check          69.35         69.35  \n",
       "4           Electronic check          73.85       4092.85  \n",
       "5    Credit card (automatic)           64.4        316.90  "
      ]
     },
     "execution_count": 11,
     "metadata": {},
     "output_type": "execute_result"
    }
   ],
   "source": [
    "df2.head()"
   ]
  },
  {
   "cell_type": "code",
   "execution_count": 12,
   "metadata": {},
   "outputs": [
    {
     "name": "stdout",
     "output_type": "stream",
     "text": [
      "<class 'pandas.core.frame.DataFrame'>\n",
      "Int64Index: 1096 entries, 0 to 1367\n",
      "Data columns (total 9 columns):\n",
      " #   Column           Non-Null Count  Dtype  \n",
      "---  ------           --------------  -----  \n",
      " 0   customerID       1096 non-null   object \n",
      " 1   gender           1096 non-null   object \n",
      " 2   Senior Citizen   1096 non-null   int64  \n",
      " 3   tenure           1096 non-null   object \n",
      " 4   InternetService  1096 non-null   object \n",
      " 5   Contract         1096 non-null   object \n",
      " 6   PaymentMethod    1096 non-null   object \n",
      " 7   MonthlyCharges   1096 non-null   object \n",
      " 8   TotalCharges     1096 non-null   float64\n",
      "dtypes: float64(1), int64(1), object(7)\n",
      "memory usage: 85.6+ KB\n"
     ]
    }
   ],
   "source": [
    "df2.info()"
   ]
  },
  {
   "cell_type": "markdown",
   "metadata": {},
   "source": [
    "Tenure and monthly charges have to be changed to int64 and float format respectively"
   ]
  },
  {
   "cell_type": "code",
   "execution_count": 13,
   "metadata": {},
   "outputs": [],
   "source": [
    "df2['tenure'] = df2['tenure'].astype(int)"
   ]
  },
  {
   "cell_type": "code",
   "execution_count": 14,
   "metadata": {},
   "outputs": [],
   "source": [
    "df2['MonthlyCharges'] = df2['MonthlyCharges'].astype(float)"
   ]
  },
  {
   "cell_type": "code",
   "execution_count": 15,
   "metadata": {},
   "outputs": [
    {
     "name": "stdout",
     "output_type": "stream",
     "text": [
      "<class 'pandas.core.frame.DataFrame'>\n",
      "Int64Index: 1096 entries, 0 to 1367\n",
      "Data columns (total 9 columns):\n",
      " #   Column           Non-Null Count  Dtype  \n",
      "---  ------           --------------  -----  \n",
      " 0   customerID       1096 non-null   object \n",
      " 1   gender           1096 non-null   object \n",
      " 2   Senior Citizen   1096 non-null   int64  \n",
      " 3   tenure           1096 non-null   int32  \n",
      " 4   InternetService  1096 non-null   object \n",
      " 5   Contract         1096 non-null   object \n",
      " 6   PaymentMethod    1096 non-null   object \n",
      " 7   MonthlyCharges   1096 non-null   float64\n",
      " 8   TotalCharges     1096 non-null   float64\n",
      "dtypes: float64(2), int32(1), int64(1), object(5)\n",
      "memory usage: 81.3+ KB\n"
     ]
    }
   ],
   "source": [
    "#Just Checking\n",
    "df2.info()"
   ]
  },
  {
   "cell_type": "markdown",
   "metadata": {},
   "source": [
    "### Mirroring manipulation to test data on training data"
   ]
  },
  {
   "cell_type": "code",
   "execution_count": 17,
   "metadata": {},
   "outputs": [
    {
     "data": {
      "text/plain": [
       "Index(['customerID', 'gender', 'SeniorCitizen', 'Partner', 'Dependents',\n",
       "       'tenure', 'PhoneService', 'MultipleLines', 'InternetService',\n",
       "       'OnlineSecurity', 'OnlineBackup', 'DeviceProtection', 'TechSupport',\n",
       "       'StreamingTV', 'StreamingMovies', 'Contract', 'PaperlessBilling',\n",
       "       'PaymentMethod', 'MonthlyCharges', 'TotalCharges', 'Churn'],\n",
       "      dtype='object')"
      ]
     },
     "execution_count": 17,
     "metadata": {},
     "output_type": "execute_result"
    }
   ],
   "source": [
    "df1.columns"
   ]
  },
  {
   "cell_type": "code",
   "execution_count": 21,
   "metadata": {},
   "outputs": [],
   "source": [
    "df1.drop(['Partner', 'Dependents', 'PhoneService', 'MultipleLines', 'OnlineSecurity', 'OnlineBackup', 'DeviceProtection','TechSupport', 'StreamingTV', 'StreamingMovies', 'PaperlessBilling'], axis = 1, inplace = True)"
   ]
  },
  {
   "cell_type": "code",
   "execution_count": 22,
   "metadata": {},
   "outputs": [
    {
     "data": {
      "text/plain": [
       "Index(['customerID', 'gender', 'SeniorCitizen', 'tenure', 'InternetService',\n",
       "       'Contract', 'PaymentMethod', 'MonthlyCharges', 'TotalCharges', 'Churn'],\n",
       "      dtype='object')"
      ]
     },
     "execution_count": 22,
     "metadata": {},
     "output_type": "execute_result"
    }
   ],
   "source": [
    "df1.columns"
   ]
  },
  {
   "cell_type": "code",
   "execution_count": 27,
   "metadata": {},
   "outputs": [
    {
     "data": {
      "text/plain": [
       "array(['No', 'Yes'], dtype=object)"
      ]
     },
     "execution_count": 27,
     "metadata": {},
     "output_type": "execute_result"
    }
   ],
   "source": [
    "df1['Churn'].unique()"
   ]
  },
  {
   "cell_type": "code",
   "execution_count": 18,
   "metadata": {},
   "outputs": [
    {
     "data": {
      "text/plain": [
       "Index(['customerID', 'gender', 'Senior Citizen', 'tenure', 'InternetService',\n",
       "       'Contract', 'PaymentMethod', 'MonthlyCharges', 'TotalCharges'],\n",
       "      dtype='object')"
      ]
     },
     "execution_count": 18,
     "metadata": {},
     "output_type": "execute_result"
    }
   ],
   "source": [
    "df2.columns"
   ]
  },
  {
   "cell_type": "code",
   "execution_count": 24,
   "metadata": {},
   "outputs": [
    {
     "name": "stdout",
     "output_type": "stream",
     "text": [
      "True\n",
      "True\n",
      "True\n",
      "True\n",
      "True\n",
      "True\n",
      "True\n",
      "True\n"
     ]
    }
   ],
   "source": [
    "for i in df1.columns:\n",
    "    for x in df2.columns:\n",
    "        if i == x:\n",
    "            print('True')"
   ]
  },
  {
   "cell_type": "code",
   "execution_count": 26,
   "metadata": {},
   "outputs": [
    {
     "data": {
      "text/html": [
       "<div>\n",
       "<style scoped>\n",
       "    .dataframe tbody tr th:only-of-type {\n",
       "        vertical-align: middle;\n",
       "    }\n",
       "\n",
       "    .dataframe tbody tr th {\n",
       "        vertical-align: top;\n",
       "    }\n",
       "\n",
       "    .dataframe thead th {\n",
       "        text-align: right;\n",
       "    }\n",
       "</style>\n",
       "<table border=\"1\" class=\"dataframe\">\n",
       "  <thead>\n",
       "    <tr style=\"text-align: right;\">\n",
       "      <th></th>\n",
       "      <th>customerID</th>\n",
       "      <th>gender</th>\n",
       "      <th>SeniorCitizen</th>\n",
       "      <th>tenure</th>\n",
       "      <th>InternetService</th>\n",
       "      <th>Contract</th>\n",
       "      <th>PaymentMethod</th>\n",
       "      <th>MonthlyCharges</th>\n",
       "      <th>TotalCharges</th>\n",
       "      <th>Churn</th>\n",
       "    </tr>\n",
       "  </thead>\n",
       "  <tbody>\n",
       "    <tr>\n",
       "      <th>0</th>\n",
       "      <td>7590-VHVEG</td>\n",
       "      <td>Female</td>\n",
       "      <td>0</td>\n",
       "      <td>1</td>\n",
       "      <td>DSL</td>\n",
       "      <td>Month-to-month</td>\n",
       "      <td>Electronic check</td>\n",
       "      <td>29.85</td>\n",
       "      <td>29.85</td>\n",
       "      <td>No</td>\n",
       "    </tr>\n",
       "    <tr>\n",
       "      <th>1</th>\n",
       "      <td>5575-GNVDE</td>\n",
       "      <td>Male</td>\n",
       "      <td>0</td>\n",
       "      <td>34</td>\n",
       "      <td>DSL</td>\n",
       "      <td>One year</td>\n",
       "      <td>Mailed check</td>\n",
       "      <td>56.95</td>\n",
       "      <td>1889.5</td>\n",
       "      <td>No</td>\n",
       "    </tr>\n",
       "    <tr>\n",
       "      <th>2</th>\n",
       "      <td>3668-QPYBK</td>\n",
       "      <td>Male</td>\n",
       "      <td>0</td>\n",
       "      <td>2</td>\n",
       "      <td>DSL</td>\n",
       "      <td>Month-to-month</td>\n",
       "      <td>Mailed check</td>\n",
       "      <td>53.85</td>\n",
       "      <td>108.15</td>\n",
       "      <td>Yes</td>\n",
       "    </tr>\n",
       "    <tr>\n",
       "      <th>3</th>\n",
       "      <td>7795-CFOCW</td>\n",
       "      <td>Male</td>\n",
       "      <td>0</td>\n",
       "      <td>45</td>\n",
       "      <td>DSL</td>\n",
       "      <td>One year</td>\n",
       "      <td>Bank transfer (automatic)</td>\n",
       "      <td>42.30</td>\n",
       "      <td>1840.75</td>\n",
       "      <td>No</td>\n",
       "    </tr>\n",
       "    <tr>\n",
       "      <th>4</th>\n",
       "      <td>9237-HQITU</td>\n",
       "      <td>Female</td>\n",
       "      <td>0</td>\n",
       "      <td>2</td>\n",
       "      <td>Fiber optic</td>\n",
       "      <td>Month-to-month</td>\n",
       "      <td>Electronic check</td>\n",
       "      <td>70.70</td>\n",
       "      <td>151.65</td>\n",
       "      <td>Yes</td>\n",
       "    </tr>\n",
       "    <tr>\n",
       "      <th>5</th>\n",
       "      <td>9305-CDSKC</td>\n",
       "      <td>Female</td>\n",
       "      <td>0</td>\n",
       "      <td>8</td>\n",
       "      <td>Fiber optic</td>\n",
       "      <td>Month-to-month</td>\n",
       "      <td>Electronic check</td>\n",
       "      <td>99.65</td>\n",
       "      <td>820.5</td>\n",
       "      <td>Yes</td>\n",
       "    </tr>\n",
       "    <tr>\n",
       "      <th>6</th>\n",
       "      <td>1452-KIOVK</td>\n",
       "      <td>Male</td>\n",
       "      <td>0</td>\n",
       "      <td>22</td>\n",
       "      <td>Fiber optic</td>\n",
       "      <td>Month-to-month</td>\n",
       "      <td>Credit card (automatic)</td>\n",
       "      <td>89.10</td>\n",
       "      <td>1949.4</td>\n",
       "      <td>No</td>\n",
       "    </tr>\n",
       "    <tr>\n",
       "      <th>7</th>\n",
       "      <td>6713-OKOMC</td>\n",
       "      <td>Female</td>\n",
       "      <td>0</td>\n",
       "      <td>10</td>\n",
       "      <td>DSL</td>\n",
       "      <td>Month-to-month</td>\n",
       "      <td>Mailed check</td>\n",
       "      <td>29.75</td>\n",
       "      <td>301.9</td>\n",
       "      <td>No</td>\n",
       "    </tr>\n",
       "    <tr>\n",
       "      <th>8</th>\n",
       "      <td>7892-POOKP</td>\n",
       "      <td>Female</td>\n",
       "      <td>0</td>\n",
       "      <td>28</td>\n",
       "      <td>Fiber optic</td>\n",
       "      <td>Month-to-month</td>\n",
       "      <td>Electronic check</td>\n",
       "      <td>104.80</td>\n",
       "      <td>3046.05</td>\n",
       "      <td>Yes</td>\n",
       "    </tr>\n",
       "    <tr>\n",
       "      <th>9</th>\n",
       "      <td>6388-TABGU</td>\n",
       "      <td>Male</td>\n",
       "      <td>0</td>\n",
       "      <td>62</td>\n",
       "      <td>DSL</td>\n",
       "      <td>One year</td>\n",
       "      <td>Bank transfer (automatic)</td>\n",
       "      <td>56.15</td>\n",
       "      <td>3487.95</td>\n",
       "      <td>No</td>\n",
       "    </tr>\n",
       "    <tr>\n",
       "      <th>10</th>\n",
       "      <td>9763-GRSKD</td>\n",
       "      <td>Male</td>\n",
       "      <td>0</td>\n",
       "      <td>13</td>\n",
       "      <td>DSL</td>\n",
       "      <td>Month-to-month</td>\n",
       "      <td>Mailed check</td>\n",
       "      <td>49.95</td>\n",
       "      <td>587.45</td>\n",
       "      <td>No</td>\n",
       "    </tr>\n",
       "    <tr>\n",
       "      <th>11</th>\n",
       "      <td>7469-LKBCI</td>\n",
       "      <td>Male</td>\n",
       "      <td>0</td>\n",
       "      <td>16</td>\n",
       "      <td>No</td>\n",
       "      <td>Two year</td>\n",
       "      <td>Credit card (automatic)</td>\n",
       "      <td>18.95</td>\n",
       "      <td>326.8</td>\n",
       "      <td>No</td>\n",
       "    </tr>\n",
       "    <tr>\n",
       "      <th>12</th>\n",
       "      <td>8091-TTVAX</td>\n",
       "      <td>Male</td>\n",
       "      <td>0</td>\n",
       "      <td>58</td>\n",
       "      <td>Fiber optic</td>\n",
       "      <td>One year</td>\n",
       "      <td>Credit card (automatic)</td>\n",
       "      <td>100.35</td>\n",
       "      <td>5681.1</td>\n",
       "      <td>No</td>\n",
       "    </tr>\n",
       "    <tr>\n",
       "      <th>13</th>\n",
       "      <td>0280-XJGEX</td>\n",
       "      <td>Male</td>\n",
       "      <td>0</td>\n",
       "      <td>49</td>\n",
       "      <td>Fiber optic</td>\n",
       "      <td>Month-to-month</td>\n",
       "      <td>Bank transfer (automatic)</td>\n",
       "      <td>103.70</td>\n",
       "      <td>5036.3</td>\n",
       "      <td>Yes</td>\n",
       "    </tr>\n",
       "    <tr>\n",
       "      <th>14</th>\n",
       "      <td>5129-JLPIS</td>\n",
       "      <td>Male</td>\n",
       "      <td>0</td>\n",
       "      <td>25</td>\n",
       "      <td>Fiber optic</td>\n",
       "      <td>Month-to-month</td>\n",
       "      <td>Electronic check</td>\n",
       "      <td>105.50</td>\n",
       "      <td>2686.05</td>\n",
       "      <td>No</td>\n",
       "    </tr>\n",
       "    <tr>\n",
       "      <th>15</th>\n",
       "      <td>3655-SNQYZ</td>\n",
       "      <td>Female</td>\n",
       "      <td>0</td>\n",
       "      <td>69</td>\n",
       "      <td>Fiber optic</td>\n",
       "      <td>Two year</td>\n",
       "      <td>Credit card (automatic)</td>\n",
       "      <td>113.25</td>\n",
       "      <td>7895.15</td>\n",
       "      <td>No</td>\n",
       "    </tr>\n",
       "    <tr>\n",
       "      <th>16</th>\n",
       "      <td>8191-XWSZG</td>\n",
       "      <td>Female</td>\n",
       "      <td>0</td>\n",
       "      <td>52</td>\n",
       "      <td>No</td>\n",
       "      <td>One year</td>\n",
       "      <td>Mailed check</td>\n",
       "      <td>20.65</td>\n",
       "      <td>1022.95</td>\n",
       "      <td>No</td>\n",
       "    </tr>\n",
       "    <tr>\n",
       "      <th>17</th>\n",
       "      <td>9959-WOFKT</td>\n",
       "      <td>Male</td>\n",
       "      <td>0</td>\n",
       "      <td>71</td>\n",
       "      <td>Fiber optic</td>\n",
       "      <td>Two year</td>\n",
       "      <td>Bank transfer (automatic)</td>\n",
       "      <td>106.70</td>\n",
       "      <td>7382.25</td>\n",
       "      <td>No</td>\n",
       "    </tr>\n",
       "    <tr>\n",
       "      <th>18</th>\n",
       "      <td>4190-MFLUW</td>\n",
       "      <td>Female</td>\n",
       "      <td>0</td>\n",
       "      <td>10</td>\n",
       "      <td>DSL</td>\n",
       "      <td>Month-to-month</td>\n",
       "      <td>Credit card (automatic)</td>\n",
       "      <td>55.20</td>\n",
       "      <td>528.35</td>\n",
       "      <td>Yes</td>\n",
       "    </tr>\n",
       "    <tr>\n",
       "      <th>19</th>\n",
       "      <td>4183-MYFRB</td>\n",
       "      <td>Female</td>\n",
       "      <td>0</td>\n",
       "      <td>21</td>\n",
       "      <td>Fiber optic</td>\n",
       "      <td>Month-to-month</td>\n",
       "      <td>Electronic check</td>\n",
       "      <td>90.05</td>\n",
       "      <td>1862.9</td>\n",
       "      <td>No</td>\n",
       "    </tr>\n",
       "  </tbody>\n",
       "</table>\n",
       "</div>"
      ],
      "text/plain": [
       "    customerID  gender  SeniorCitizen  tenure InternetService        Contract  \\\n",
       "0   7590-VHVEG  Female              0       1             DSL  Month-to-month   \n",
       "1   5575-GNVDE    Male              0      34             DSL        One year   \n",
       "2   3668-QPYBK    Male              0       2             DSL  Month-to-month   \n",
       "3   7795-CFOCW    Male              0      45             DSL        One year   \n",
       "4   9237-HQITU  Female              0       2     Fiber optic  Month-to-month   \n",
       "5   9305-CDSKC  Female              0       8     Fiber optic  Month-to-month   \n",
       "6   1452-KIOVK    Male              0      22     Fiber optic  Month-to-month   \n",
       "7   6713-OKOMC  Female              0      10             DSL  Month-to-month   \n",
       "8   7892-POOKP  Female              0      28     Fiber optic  Month-to-month   \n",
       "9   6388-TABGU    Male              0      62             DSL        One year   \n",
       "10  9763-GRSKD    Male              0      13             DSL  Month-to-month   \n",
       "11  7469-LKBCI    Male              0      16              No        Two year   \n",
       "12  8091-TTVAX    Male              0      58     Fiber optic        One year   \n",
       "13  0280-XJGEX    Male              0      49     Fiber optic  Month-to-month   \n",
       "14  5129-JLPIS    Male              0      25     Fiber optic  Month-to-month   \n",
       "15  3655-SNQYZ  Female              0      69     Fiber optic        Two year   \n",
       "16  8191-XWSZG  Female              0      52              No        One year   \n",
       "17  9959-WOFKT    Male              0      71     Fiber optic        Two year   \n",
       "18  4190-MFLUW  Female              0      10             DSL  Month-to-month   \n",
       "19  4183-MYFRB  Female              0      21     Fiber optic  Month-to-month   \n",
       "\n",
       "                PaymentMethod  MonthlyCharges TotalCharges Churn  \n",
       "0            Electronic check           29.85        29.85    No  \n",
       "1                Mailed check           56.95       1889.5    No  \n",
       "2                Mailed check           53.85       108.15   Yes  \n",
       "3   Bank transfer (automatic)           42.30      1840.75    No  \n",
       "4            Electronic check           70.70       151.65   Yes  \n",
       "5            Electronic check           99.65        820.5   Yes  \n",
       "6     Credit card (automatic)           89.10       1949.4    No  \n",
       "7                Mailed check           29.75        301.9    No  \n",
       "8            Electronic check          104.80      3046.05   Yes  \n",
       "9   Bank transfer (automatic)           56.15      3487.95    No  \n",
       "10               Mailed check           49.95       587.45    No  \n",
       "11    Credit card (automatic)           18.95        326.8    No  \n",
       "12    Credit card (automatic)          100.35       5681.1    No  \n",
       "13  Bank transfer (automatic)          103.70       5036.3   Yes  \n",
       "14           Electronic check          105.50      2686.05    No  \n",
       "15    Credit card (automatic)          113.25      7895.15    No  \n",
       "16               Mailed check           20.65      1022.95    No  \n",
       "17  Bank transfer (automatic)          106.70      7382.25    No  \n",
       "18    Credit card (automatic)           55.20       528.35   Yes  \n",
       "19           Electronic check           90.05       1862.9    No  "
      ]
     },
     "execution_count": 26,
     "metadata": {},
     "output_type": "execute_result"
    }
   ],
   "source": [
    "df1.head(20)"
   ]
  }
 ],
 "metadata": {
  "kernelspec": {
   "display_name": "Python 3",
   "language": "python",
   "name": "python3"
  },
  "language_info": {
   "codemirror_mode": {
    "name": "ipython",
    "version": 3
   },
   "file_extension": ".py",
   "mimetype": "text/x-python",
   "name": "python",
   "nbconvert_exporter": "python",
   "pygments_lexer": "ipython3",
   "version": "3.7.6"
  }
 },
 "nbformat": 4,
 "nbformat_minor": 4
}
