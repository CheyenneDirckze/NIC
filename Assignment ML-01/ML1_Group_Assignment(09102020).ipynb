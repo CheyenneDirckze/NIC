{
  "nbformat": 4,
  "nbformat_minor": 0,
  "metadata": {
    "kernelspec": {
      "display_name": "Python 3",
      "language": "python",
      "name": "python3"
    },
    "language_info": {
      "codemirror_mode": {
        "name": "ipython",
        "version": 3
      },
      "file_extension": ".py",
      "mimetype": "text/x-python",
      "name": "python",
      "nbconvert_exporter": "python",
      "pygments_lexer": "ipython3",
      "version": "3.7.6"
    },
    "colab": {
      "name": "Copy of ML1 Group Assignment.ipynb",
      "provenance": []
    }
  },
  "cells": [
    {
      "cell_type": "markdown",
      "metadata": {
        "id": "cZBOn3vRZcOq"
      },
      "source": [
        "### Group Participants\n",
        "*   Ruzaik:\n",
        "*   Ravindu:\n",
        "*   Pulin:\n",
        "*   Cheyenne Dirckze: COADDS192P-006"
      ]
    },
    {
      "cell_type": "markdown",
      "metadata": {
        "id": "-OjtZxBNQS0t"
      },
      "source": [
        "### Importing relevant libraries"
      ]
    },
    {
      "cell_type": "code",
      "metadata": {
        "id": "ZJZf7vKqQS0u"
      },
      "source": [
        "import matplotlib.pyplot as plt\n",
        "import seaborn as sns\n",
        "import numpy as np\n",
        "import pandas as pd\n",
        "%matplotlib inline"
      ],
      "execution_count": null,
      "outputs": []
    },
    {
      "cell_type": "markdown",
      "metadata": {
        "id": "sRhhGyooQS00"
      },
      "source": [
        "### Importing datasets"
      ]
    },
    {
      "cell_type": "code",
      "metadata": {
        "id": "P0LLQriAW649",
        "outputId": "90664741-96c3-48f5-bec2-a23214e3b083",
        "colab": {
          "base_uri": "https://localhost:8080/",
          "height": 34
        }
      },
      "source": [
        "from google.colab import drive\n",
        "drive.mount('/content/drive')"
      ],
      "execution_count": null,
      "outputs": [
        {
          "output_type": "stream",
          "text": [
            "Mounted at /content/drive\n"
          ],
          "name": "stdout"
        }
      ]
    },
    {
      "cell_type": "code",
      "metadata": {
        "id": "Gpofhbx9XRyI"
      },
      "source": [
        "path1 = '/content/drive/My Drive/DATA SCIENCE/ML1_GroupAssignment (ABC Telco)/Train data.txt'"
      ],
      "execution_count": null,
      "outputs": []
    },
    {
      "cell_type": "code",
      "metadata": {
        "id": "2UrdknNEQS01"
      },
      "source": [
        "df1 = pd.read_csv(path1)"
      ],
      "execution_count": null,
      "outputs": []
    },
    {
      "cell_type": "code",
      "metadata": {
        "id": "oKeEyUFvYBCB"
      },
      "source": [
        "path2 = '/content/drive/My Drive/DATA SCIENCE/ML1_GroupAssignment (ABC Telco)/Test data.txt'"
      ],
      "execution_count": null,
      "outputs": []
    },
    {
      "cell_type": "code",
      "metadata": {
        "id": "P8Fjwo7RQS06"
      },
      "source": [
        "#Carefuly chose header names by comparing against train data with notepad++\n",
        "\n",
        "df2 = pd.read_csv(path2, header = None, names = ['customerID','gender', 'Senior Citizen', 'tenure', 'InternetService', 'Contract','PaymentMethod','MonthlyCharges', 'TotalCharges'])"
      ],
      "execution_count": null,
      "outputs": []
    },
    {
      "cell_type": "markdown",
      "metadata": {
        "id": "xph8ytTQZGHP"
      },
      "source": [
        "### Cleaning up test dataset"
      ]
    },
    {
      "cell_type": "code",
      "metadata": {
        "id": "bzgYzvHEQS1B",
        "outputId": "e8cefc31-2b07-4881-baab-a8e052486f1b",
        "colab": {
          "base_uri": "https://localhost:8080/",
          "height": 255
        }
      },
      "source": [
        "df2.head()"
      ],
      "execution_count": null,
      "outputs": [
        {
          "output_type": "execute_result",
          "data": {
            "text/html": [
              "<div>\n",
              "<style scoped>\n",
              "    .dataframe tbody tr th:only-of-type {\n",
              "        vertical-align: middle;\n",
              "    }\n",
              "\n",
              "    .dataframe tbody tr th {\n",
              "        vertical-align: top;\n",
              "    }\n",
              "\n",
              "    .dataframe thead th {\n",
              "        text-align: right;\n",
              "    }\n",
              "</style>\n",
              "<table border=\"1\" class=\"dataframe\">\n",
              "  <thead>\n",
              "    <tr style=\"text-align: right;\">\n",
              "      <th></th>\n",
              "      <th>customerID</th>\n",
              "      <th>gender</th>\n",
              "      <th>Senior Citizen</th>\n",
              "      <th>tenure</th>\n",
              "      <th>InternetService</th>\n",
              "      <th>Contract</th>\n",
              "      <th>PaymentMethod</th>\n",
              "      <th>MonthlyCharges</th>\n",
              "      <th>TotalCharges</th>\n",
              "    </tr>\n",
              "  </thead>\n",
              "  <tbody>\n",
              "    <tr>\n",
              "      <th>0</th>\n",
              "      <td>9398-MMQTO</td>\n",
              "      <td>Male</td>\n",
              "      <td>0</td>\n",
              "      <td>3</td>\n",
              "      <td>Fiber optic</td>\n",
              "      <td>Month-to-month</td>\n",
              "      <td>Credit card (automatic)</td>\n",
              "      <td>74.45</td>\n",
              "      <td>221.10</td>\n",
              "    </tr>\n",
              "    <tr>\n",
              "      <th>1</th>\n",
              "      <td>7619-PLRLP</td>\n",
              "      <td>Female</td>\n",
              "      <td>0</td>\n",
              "      <td>53</td>\n",
              "      <td>DSL</td>\n",
              "      <td>One year</td>\n",
              "      <td>Bank transfer (automatic)</td>\n",
              "      <td>74.1</td>\n",
              "      <td>3833.95</td>\n",
              "    </tr>\n",
              "    <tr>\n",
              "      <th>2</th>\n",
              "      <td>6457-GIRWB</td>\n",
              "      <td>Male</td>\n",
              "      <td>0</td>\n",
              "      <td>1</td>\n",
              "      <td>Fiber optic</td>\n",
              "      <td>Month-to-month</td>\n",
              "      <td>Electronic check</td>\n",
              "      <td>69.35</td>\n",
              "      <td>69.35</td>\n",
              "    </tr>\n",
              "    <tr>\n",
              "      <th>3</th>\n",
              "      <td>6508-NJYRO</td>\n",
              "      <td>Male</td>\n",
              "      <td>0</td>\n",
              "      <td>15 internet service internet service internet ...</td>\n",
              "      <td>One year</td>\n",
              "      <td>Mailed check</td>\n",
              "      <td>18.8</td>\n",
              "      <td>294.95</td>\n",
              "      <td>NaN</td>\n",
              "    </tr>\n",
              "    <tr>\n",
              "      <th>4</th>\n",
              "      <td>1450-SKCVI</td>\n",
              "      <td>Female</td>\n",
              "      <td>0</td>\n",
              "      <td>56</td>\n",
              "      <td>Fiber optic</td>\n",
              "      <td>Month-to-month</td>\n",
              "      <td>Electronic check</td>\n",
              "      <td>73.85</td>\n",
              "      <td>4092.85</td>\n",
              "    </tr>\n",
              "  </tbody>\n",
              "</table>\n",
              "</div>"
            ],
            "text/plain": [
              "   customerID  gender  ...  MonthlyCharges TotalCharges\n",
              "0  9398-MMQTO    Male  ...           74.45       221.10\n",
              "1  7619-PLRLP  Female  ...            74.1      3833.95\n",
              "2  6457-GIRWB    Male  ...           69.35        69.35\n",
              "3  6508-NJYRO    Male  ...          294.95          NaN\n",
              "4  1450-SKCVI  Female  ...           73.85      4092.85\n",
              "\n",
              "[5 rows x 9 columns]"
            ]
          },
          "metadata": {
            "tags": []
          },
          "execution_count": 7
        }
      ]
    },
    {
      "cell_type": "markdown",
      "metadata": {
        "id": "iVgBOVkwQS1F"
      },
      "source": [
        "Visible skew of data from tenure column"
      ]
    },
    {
      "cell_type": "code",
      "metadata": {
        "id": "0ZAhuKV5QS1G",
        "outputId": "23876c6f-d4a9-4d08-e9a7-f9e7f1c04dc3",
        "colab": {
          "base_uri": "https://localhost:8080/",
          "height": 187
        }
      },
      "source": [
        "df2.isnull().sum()"
      ],
      "execution_count": null,
      "outputs": [
        {
          "output_type": "execute_result",
          "data": {
            "text/plain": [
              "customerID           0\n",
              "gender               0\n",
              "Senior Citizen       0\n",
              "tenure               0\n",
              "InternetService      0\n",
              "Contract             0\n",
              "PaymentMethod        0\n",
              "MonthlyCharges       0\n",
              "TotalCharges       273\n",
              "dtype: int64"
            ]
          },
          "metadata": {
            "tags": []
          },
          "execution_count": 8
        }
      ]
    },
    {
      "cell_type": "markdown",
      "metadata": {
        "id": "dm4jnYdBQS1J"
      },
      "source": [
        "Skew results in 273 missing values for 'Total charges' column"
      ]
    },
    {
      "cell_type": "code",
      "metadata": {
        "id": "kAZQjTMiQS1J",
        "outputId": "80944518-1599-4598-9220-9b5e6a4a8eba",
        "colab": {
          "base_uri": "https://localhost:8080/",
          "height": 34
        }
      },
      "source": [
        "a= (df2.isnull().sum()['TotalCharges']/df2.shape[0])*100\n",
        "print('Missing value percentage:', a, '%')"
      ],
      "execution_count": null,
      "outputs": [
        {
          "output_type": "stream",
          "text": [
            "Missing value percentage: 19.941563184806427 %\n"
          ],
          "name": "stdout"
        }
      ]
    },
    {
      "cell_type": "code",
      "metadata": {
        "id": "UOqMP-7hQS1N"
      },
      "source": [
        "#dropping rows containing missing values to save time cleaning data\n",
        "df2.dropna(inplace = True)"
      ],
      "execution_count": null,
      "outputs": []
    },
    {
      "cell_type": "code",
      "metadata": {
        "id": "EhXa31KWQS1T",
        "outputId": "5d6938d9-b554-4490-cd1a-60ac6980e8f7",
        "colab": {
          "base_uri": "https://localhost:8080/",
          "height": 1000
        }
      },
      "source": [
        "#Checking for extaordinary unique values in all columns\n",
        "for i in df2.columns:\n",
        "    print(df2[i].unique())"
      ],
      "execution_count": null,
      "outputs": [
        {
          "output_type": "stream",
          "text": [
            "['9398-MMQTO' '7619-PLRLP' '6457-GIRWB' ... '1941-HOSAM' '9110-HSGTV'\n",
            " '6171-ZTVYB']\n",
            "['Male' 'Female']\n",
            "[0 1]\n",
            "['3' '53' '1' '56' '5' '48' '58' '10' '71' '65' '28 phone service' '67'\n",
            " '35' '72 phone service' '61 phone service' '1 phone service' '70'\n",
            " '48 phone service' '68' '47' '32 phone service' '13' '12' '9' '38' '42'\n",
            " '24' '27' '49 phone service' '61' '50 phone service' '25' '22' '4' '18'\n",
            " '51' '62' '16 phone service' '8' '72' '23' '31 phone service'\n",
            " '37 phone service' '30' '20' '36' '50' '57' '41' '3 phone service' '64'\n",
            " '26 phone service' '40' '34' '63' '44' '6 phone service' '33' '43' '6'\n",
            " '59' '14' '19' '2' '57 phone service' '66 phone service'\n",
            " '24 phone service' '31' '54' '10 phone service' '11' '15' '32'\n",
            " '67 phone service' '29 phone service' '45' '16' '52' '21'\n",
            " '14 phone service' '68 phone service' '29' '69 phone service' '17' '46'\n",
            " '7' '66' '23 phone service' '37' '21 phone service' '27 phone service'\n",
            " '55' '42 phone service' '33 phone service' '69' '60' '13 phone service'\n",
            " '7 phone service' '49' '44 phone service' '39' '71 phone service'\n",
            " '4 phone service' '28' '26' '12 phone service' '5 phone service'\n",
            " '22 phone service' '60 phone service' '70 phone service'\n",
            " '19 phone service' '41 phone service' '36 phone service'\n",
            " '45 phone service' '2 phone service' '52 phone service'\n",
            " '46 phone service' '40 phone service' '8 phone service'\n",
            " '35 phone service' '54 phone service' '9 phone service'\n",
            " '62 phone service' '58 phone service' '51 phone service'\n",
            " '53 phone service' '47 phone service' '11 phone service'\n",
            " '55 phone service' '43 phone service']\n",
            "['Fiber optic' 'DSL']\n",
            "['Month-to-month' 'One year' 'Two year']\n",
            "['Credit card (automatic)' 'Bank transfer (automatic)' 'Electronic check'\n",
            " 'Mailed check']\n",
            "['74.45' '74.1' '69.35' '73.85' '64.4' '55.8' '75.15' '99.15' '56.75'\n",
            " '69.6' '104.15' '110.8' '80.15' '35.75' '69.9' '89.2' '55.65' '50.7'\n",
            " '30.5' '98.3' '45.55' '101.05' '103.7' '36.25' '49.4' '107.4' '82'\n",
            " '45.05' '64.55' '86.25' '89.1' '95.55' '75.4' '101.25' '102.6' '56.3'\n",
            " '94.2' '43.05' '89.5' '74.4' '74.35' '99.75' '111.95' '94' '98.85'\n",
            " '64.35' '72' '49.7' '80.7' '24.2' '39' '65.45' '83.2' '25' '40.2' '94.1'\n",
            " '108.35' '69.5' '76' '93.6' '95.65' '100.55' '88.05' '89.55' '66.5'\n",
            " '76.1' '80.5' '35.45' '49.9' '105.4' '95.1' '104.5' '63.1' '75.05' '81'\n",
            " '60.4' '84.95' '93.4' '85.2' '49.95' '70.65' '59.8' '104.95' '103.5'\n",
            " '84.8' '95.05' '44.2' '73.35' '64.1' '44.4' '29.95' '45.3' '84.5' '74.75'\n",
            " '79.25' '24.8' '51.8' '30.4' '56.6' '71.9' '91' '109.7' '96.55' '111.35'\n",
            " '112.25' '101.9' '80.05' '105.55' '78.3' '68.85' '79.95' '55.45' '79.9'\n",
            " '106.6' '102.45' '46' '25.25' '86.8' '58.75' '45.25' '84.2' '80' '70.15'\n",
            " '50.05' '50.6' '81.15' '55.2' '89.9' '85.3' '108' '93.5' '84.6' '54.4'\n",
            " '29.6' '73.15' '95' '86.6' '109.2' '74.7' '94.4' '54.8' '75.35' '65'\n",
            " '48.55' '99' '70.4' '83.7' '59.55' '115.1' '114.35' '44.6' '45' '41.15'\n",
            " '106.9' '89.85' '49.85' '113.3' '88.1' '105' '94.45' '59.75' '107.05'\n",
            " '70.6' '85.4' '105.05' '64.95' '55' '50.55' '55.15' '51.2' '54.45'\n",
            " '95.15' '44.35' '70' '74.5' '44.85' '61.2' '89.35' '76.05' '100.8'\n",
            " '74.55' '73.6' '64.9' '95.45' '90.4' '60.3' '81.85' '74.9' '75.55'\n",
            " '101.15' '78.75' '89.05' '115.05' '80.6' '110.05' '80.3' '93.15' '91.5'\n",
            " '82.45' '60' '44.8' '48.6' '60.05' '102.7' '82.9' '70.35' '35.9' '82.65'\n",
            " '94.9' '75.8' '104.6' '88.15' '94.8' '103.4' '54.65' '85.75' '67.45'\n",
            " '72.1' '44.95' '97' '62.8' '89.15' '41.9' '80.25' '54.1' '105.25' '30.75'\n",
            " '97.1' '98.8' '50.3' '75.9' '96.5' '59.95' '98.65' '112.6' '85.65' '96.1'\n",
            " '85.1' '25.35' '89.65' '86.75' '86.2' '50.65' '64.8' '90.85' '108.1'\n",
            " '85.45' '54.75' '44' '95.6' '44.3' '90.05' '109.9' '73.95' '54.6' '99.45'\n",
            " '55.9' '95.4' '93.95' '81.35' '74.95' '87.35' '73.25' '98.7' '83.3'\n",
            " '75.3' '69.85' '40.7' '51.65' '105.1' '85.95' '75.6' '58.25' '65.2'\n",
            " '79.05' '108.05' '30.15' '79.85' '65.5' '104.1' '91.35' '99.05' '55.1'\n",
            " '58.95' '44.7' '81.75' '86.1' '29.8' '60.9' '45.7' '100.3' '77.35' '96'\n",
            " '90.55' '93.85' '70.1' '30.35' '75.95' '75.25' '103.75' '54.95' '47.85'\n",
            " '43.8' '94.3' '70.3' '95.35' '75.5' '69.55' '95.85' '90.1' '68.95'\n",
            " '99.55' '50.15' '58.65' '95.9' '49.5' '57.45' '53.65' '80.1' '40.05'\n",
            " '51.05' '54.35' '84.7' '110' '100.6' '83.75' '88.3' '69.75' '71.6' '92.1'\n",
            " '114.7' '49.15' '80.9' '79.45' '90.45' '70.2' '54.25' '99.3' '74' '50.25'\n",
            " '43.65' '35.5' '80.75' '39.5' '90.6' '112.4' '50.2' '62.25' '55.7'\n",
            " '89.25' '54' '49.05' '98.05' '96.65' '114.5' '79.2' '80.95' '74.3' '89.7'\n",
            " '87.65' '100.45' '107.45' '68.5' '80.55' '81.25' '56.15' '105.2' '79.75'\n",
            " '97.45' '39.6' '78.95' '53.85' '89.45' '59.5' '70.55' '82.5' '61.6'\n",
            " '105.65' '74.65' '66.25' '86.05' '64.7' '104.05' '81.95' '114.65' '65.15'\n",
            " '88.95' '75.2' '56.8' '35.55' '35.6' '60.25' '40.35' '54.85' '69.7'\n",
            " '38.55' '53.1' '64.45' '76.35' '79.15' '85' '79.35' '98.35' '51.35'\n",
            " '45.65' '86.55' '54.2' '90.65' '50.9' '74.85' '63.55' '47.95' '45.1'\n",
            " '108.65' '66.4' '35.1' '46.2' '45.15' '43.3' '57.15' '58.9' '73.2'\n",
            " '85.35' '45.95' '50.5' '60.7' '104.4' '44.05' '93.8' '86.45' '114.1'\n",
            " '95.2' '88.55' '70.05' '86' '44.65' '60.2' '100.5' '72.65' '31.1' '50.95'\n",
            " '69.1' '43.95' '86.5' '69.95' '50.4' '90.95' '92' '36' '78.5' '106.1'\n",
            " '95.5' '64.6' '51.1' '60.35' '99.8' '107.35' '81.05' '111.8' '79.1'\n",
            " '60.5' '71.5' '49.8' '25.5' '90.25' '91.85' '75.45' '101.3' '84.85'\n",
            " '34.25' '88.6' '60.15' '99.95' '70.7' '49.55' '78.6' '53.6' '81.1' '85.6'\n",
            " '80.8' '93.55' '90.7' '95.25' '102.1' '80.85' '90.9' '29.2' '93.3'\n",
            " '108.85' '46.35' '84.75' '83.55' '67.85' '45.2' '47.15' '80.2' '87.1'\n",
            " '85.7' '98.75' '61.8' '108.15' '95.7' '116.85' '105.75' '60.95' '25.05'\n",
            " '63.95' '90.8' '69.65' '110.5' '24.7' '77.4' '96.8' '47.6' '103.85'\n",
            " '83.35' '108.45' '86.65' '92.95' '90.35' '48.7' '76.4' '103.15' '100.75'\n",
            " '59.1' '71.35' '55.85' '106.05' '84.1' '93.2' '33.65' '39.7' '29.5'\n",
            " '79.55' '94.05' '90.75' '78.85' '99.5' '99.2' '59.45' '93.35' '59.4'\n",
            " '61.9' '118.65' '75.85' '80.45' '24.95' '98.1' '108.9' '56.2' '109.65'\n",
            " '48.85' '56.05' '89.8' '100.95' '104.9' '24.1' '59.85' '36.65' '103.9'\n",
            " '88.35' '109.55' '94.65' '61.4' '70.75' '61.15' '63.85' '84.4' '25.1'\n",
            " '48.25' '99.6' '62.15' '79.3' '56.25' '85.9' '63.8' '101.4' '63.75'\n",
            " '109.25' '91.1' '107.95' '94.7' '87' '102.95' '64' '90.15' '116.1' '71'\n",
            " '50' '79.7' '59' '63.4' '53.95' '69.25' '70.95' '48.8' '89' '99.4' '73.5'\n",
            " '63.9' '64.85' '44.45' '43.35' '53.9' '85.05' '44.1' '90.2' '50.85'\n",
            " '59.2' '53.45' '54.9' '57.5' '94.15' '55.6' '84.45' '73.75' '96.05'\n",
            " '68.4' '107.6' '61.55' '99.25' '91.7' '100.7' '78.45' '84.3' '113.65'\n",
            " '53.4' '87.8' '83' '92.15' '58.35' '69.8' '95.95' '107.75' '71.3' '60.8'\n",
            " '98.15' '35.35' '81.4' '61.45' '104.8' '97.65' '35.65' '85.25' '88.8'\n",
            " '86.95' '94.75' '105.45' '102.55' '100.2' '74.05' '98.25' '101.55'\n",
            " '103.1' '34.2' '43.75' '100.65' '55.95' '116.05' '45.75' '79.8' '88.85'\n",
            " '106.85' '56.1' '51.3' '118.6' '115.5' '109.1' '111.3' '29.9' '35.2'\n",
            " '78.8' '89.95' '106.4' '115.25' '86.4' '66.3' '82.05' '34.7' '109.4'\n",
            " '71.05' '78.55' '40.25' '68.25' '78.65' '25.15' '42.9' '58.5' '88.9'\n",
            " '57.65' '96.2' '45.9' '105.3' '61.35' '57.55' '29.25' '84.55' '111.75'\n",
            " '40.1' '110.3' '73.9' '85.15' '72.25' '73.55' '58.55' '86.35' '110.1'\n",
            " '65.6' '82.1' '75.75' '80.35' '84.05' '78.25' '114.75' '96.25' '101.1'\n",
            " '104.7' '77.9' '110.45' '68.7' '86.9' '59.65' '55.25' '53.75' '56.9'\n",
            " '89.3' '109.6' '66.75' '79.65' '59.7' '33.7' '108.75' '41.1' '105.9'\n",
            " '40.45' '70.45' '83.65']\n",
            "[ 221.1  3833.95   69.35 ...   90.1  5555.3  2907.35]\n"
          ],
          "name": "stdout"
        }
      ]
    },
    {
      "cell_type": "markdown",
      "metadata": {
        "id": "AYzx7oUHQS1V"
      },
      "source": [
        "Tenure columns seems like it needs more cleaning"
      ]
    },
    {
      "cell_type": "code",
      "metadata": {
        "id": "lPr3JEuCQS1W"
      },
      "source": [
        "#Applying a simple split method to extract numerical value\n",
        "df2['tenure'] = df2['tenure'].apply(lambda a: a.split()[0])"
      ],
      "execution_count": null,
      "outputs": []
    },
    {
      "cell_type": "code",
      "metadata": {
        "id": "AGcWTfGZQS1Y",
        "outputId": "b87efabe-4130-4a9b-d968-e4ddc923030c",
        "colab": {
          "base_uri": "https://localhost:8080/",
          "height": 136
        }
      },
      "source": [
        "#checking values\n",
        "df2['tenure'].unique()"
      ],
      "execution_count": null,
      "outputs": [
        {
          "output_type": "execute_result",
          "data": {
            "text/plain": [
              "array(['3', '53', '1', '56', '5', '48', '58', '10', '71', '65', '28',\n",
              "       '67', '35', '72', '61', '70', '68', '47', '32', '13', '12', '9',\n",
              "       '38', '42', '24', '27', '49', '50', '25', '22', '4', '18', '51',\n",
              "       '62', '16', '8', '23', '31', '37', '30', '20', '36', '57', '41',\n",
              "       '64', '26', '40', '34', '63', '44', '6', '33', '43', '59', '14',\n",
              "       '19', '2', '66', '54', '11', '15', '29', '45', '52', '21', '69',\n",
              "       '17', '46', '7', '55', '60', '39'], dtype=object)"
            ]
          },
          "metadata": {
            "tags": []
          },
          "execution_count": 13
        }
      ]
    },
    {
      "cell_type": "code",
      "metadata": {
        "id": "4LOGR0XjQS1b",
        "outputId": "bd0dfaea-fb85-4de2-a737-5889c78e4ac3",
        "colab": {
          "base_uri": "https://localhost:8080/",
          "height": 204
        }
      },
      "source": [
        "df2.head()"
      ],
      "execution_count": null,
      "outputs": [
        {
          "output_type": "execute_result",
          "data": {
            "text/html": [
              "<div>\n",
              "<style scoped>\n",
              "    .dataframe tbody tr th:only-of-type {\n",
              "        vertical-align: middle;\n",
              "    }\n",
              "\n",
              "    .dataframe tbody tr th {\n",
              "        vertical-align: top;\n",
              "    }\n",
              "\n",
              "    .dataframe thead th {\n",
              "        text-align: right;\n",
              "    }\n",
              "</style>\n",
              "<table border=\"1\" class=\"dataframe\">\n",
              "  <thead>\n",
              "    <tr style=\"text-align: right;\">\n",
              "      <th></th>\n",
              "      <th>customerID</th>\n",
              "      <th>gender</th>\n",
              "      <th>Senior Citizen</th>\n",
              "      <th>tenure</th>\n",
              "      <th>InternetService</th>\n",
              "      <th>Contract</th>\n",
              "      <th>PaymentMethod</th>\n",
              "      <th>MonthlyCharges</th>\n",
              "      <th>TotalCharges</th>\n",
              "    </tr>\n",
              "  </thead>\n",
              "  <tbody>\n",
              "    <tr>\n",
              "      <th>0</th>\n",
              "      <td>9398-MMQTO</td>\n",
              "      <td>Male</td>\n",
              "      <td>0</td>\n",
              "      <td>3</td>\n",
              "      <td>Fiber optic</td>\n",
              "      <td>Month-to-month</td>\n",
              "      <td>Credit card (automatic)</td>\n",
              "      <td>74.45</td>\n",
              "      <td>221.10</td>\n",
              "    </tr>\n",
              "    <tr>\n",
              "      <th>1</th>\n",
              "      <td>7619-PLRLP</td>\n",
              "      <td>Female</td>\n",
              "      <td>0</td>\n",
              "      <td>53</td>\n",
              "      <td>DSL</td>\n",
              "      <td>One year</td>\n",
              "      <td>Bank transfer (automatic)</td>\n",
              "      <td>74.1</td>\n",
              "      <td>3833.95</td>\n",
              "    </tr>\n",
              "    <tr>\n",
              "      <th>2</th>\n",
              "      <td>6457-GIRWB</td>\n",
              "      <td>Male</td>\n",
              "      <td>0</td>\n",
              "      <td>1</td>\n",
              "      <td>Fiber optic</td>\n",
              "      <td>Month-to-month</td>\n",
              "      <td>Electronic check</td>\n",
              "      <td>69.35</td>\n",
              "      <td>69.35</td>\n",
              "    </tr>\n",
              "    <tr>\n",
              "      <th>4</th>\n",
              "      <td>1450-SKCVI</td>\n",
              "      <td>Female</td>\n",
              "      <td>0</td>\n",
              "      <td>56</td>\n",
              "      <td>Fiber optic</td>\n",
              "      <td>Month-to-month</td>\n",
              "      <td>Electronic check</td>\n",
              "      <td>73.85</td>\n",
              "      <td>4092.85</td>\n",
              "    </tr>\n",
              "    <tr>\n",
              "      <th>5</th>\n",
              "      <td>4710-NKCAW</td>\n",
              "      <td>Male</td>\n",
              "      <td>0</td>\n",
              "      <td>5</td>\n",
              "      <td>DSL</td>\n",
              "      <td>Month-to-month</td>\n",
              "      <td>Credit card (automatic)</td>\n",
              "      <td>64.4</td>\n",
              "      <td>316.90</td>\n",
              "    </tr>\n",
              "  </tbody>\n",
              "</table>\n",
              "</div>"
            ],
            "text/plain": [
              "   customerID  gender  ...  MonthlyCharges TotalCharges\n",
              "0  9398-MMQTO    Male  ...           74.45       221.10\n",
              "1  7619-PLRLP  Female  ...            74.1      3833.95\n",
              "2  6457-GIRWB    Male  ...           69.35        69.35\n",
              "4  1450-SKCVI  Female  ...           73.85      4092.85\n",
              "5  4710-NKCAW    Male  ...            64.4       316.90\n",
              "\n",
              "[5 rows x 9 columns]"
            ]
          },
          "metadata": {
            "tags": []
          },
          "execution_count": 14
        }
      ]
    },
    {
      "cell_type": "code",
      "metadata": {
        "id": "t96chvIUQS1d",
        "outputId": "1e420452-6095-48f9-9e77-f07c1268fd13",
        "colab": {
          "base_uri": "https://localhost:8080/",
          "height": 289
        }
      },
      "source": [
        "df2.info()"
      ],
      "execution_count": null,
      "outputs": [
        {
          "output_type": "stream",
          "text": [
            "<class 'pandas.core.frame.DataFrame'>\n",
            "Int64Index: 1096 entries, 0 to 1367\n",
            "Data columns (total 9 columns):\n",
            " #   Column           Non-Null Count  Dtype  \n",
            "---  ------           --------------  -----  \n",
            " 0   customerID       1096 non-null   object \n",
            " 1   gender           1096 non-null   object \n",
            " 2   Senior Citizen   1096 non-null   int64  \n",
            " 3   tenure           1096 non-null   object \n",
            " 4   InternetService  1096 non-null   object \n",
            " 5   Contract         1096 non-null   object \n",
            " 6   PaymentMethod    1096 non-null   object \n",
            " 7   MonthlyCharges   1096 non-null   object \n",
            " 8   TotalCharges     1096 non-null   float64\n",
            "dtypes: float64(1), int64(1), object(7)\n",
            "memory usage: 85.6+ KB\n"
          ],
          "name": "stdout"
        }
      ]
    },
    {
      "cell_type": "markdown",
      "metadata": {
        "id": "m_IipMH2QS1h"
      },
      "source": [
        "Tenure and monthly charges have to be changed to int64 and float format respectively"
      ]
    },
    {
      "cell_type": "code",
      "metadata": {
        "id": "JIY5i8GwQS1j"
      },
      "source": [
        "df2['tenure'] = df2['tenure'].astype(int)"
      ],
      "execution_count": null,
      "outputs": []
    },
    {
      "cell_type": "code",
      "metadata": {
        "id": "CQOyo_AeQS1o"
      },
      "source": [
        "df2['MonthlyCharges'] = df2['MonthlyCharges'].astype(float)"
      ],
      "execution_count": null,
      "outputs": []
    },
    {
      "cell_type": "code",
      "metadata": {
        "id": "GteHHA4WQS1s",
        "outputId": "e1dfd53a-1fbe-4dc4-d42a-4c8ec204d738",
        "colab": {
          "base_uri": "https://localhost:8080/",
          "height": 289
        }
      },
      "source": [
        "#Just Checking\n",
        "df2.info()"
      ],
      "execution_count": null,
      "outputs": [
        {
          "output_type": "stream",
          "text": [
            "<class 'pandas.core.frame.DataFrame'>\n",
            "Int64Index: 1096 entries, 0 to 1367\n",
            "Data columns (total 9 columns):\n",
            " #   Column           Non-Null Count  Dtype  \n",
            "---  ------           --------------  -----  \n",
            " 0   customerID       1096 non-null   object \n",
            " 1   gender           1096 non-null   object \n",
            " 2   Senior Citizen   1096 non-null   int64  \n",
            " 3   tenure           1096 non-null   int64  \n",
            " 4   InternetService  1096 non-null   object \n",
            " 5   Contract         1096 non-null   object \n",
            " 6   PaymentMethod    1096 non-null   object \n",
            " 7   MonthlyCharges   1096 non-null   float64\n",
            " 8   TotalCharges     1096 non-null   float64\n",
            "dtypes: float64(2), int64(2), object(5)\n",
            "memory usage: 85.6+ KB\n"
          ],
          "name": "stdout"
        }
      ]
    },
    {
      "cell_type": "markdown",
      "metadata": {
        "id": "y3Fo62qAQS1u"
      },
      "source": [
        "### Mirroring manipulation to test data on training data"
      ]
    },
    {
      "cell_type": "code",
      "metadata": {
        "id": "TXyGygpxQS1v",
        "outputId": "02b58a84-fc9d-46bd-fd3c-6f5fa7f574f9",
        "colab": {
          "base_uri": "https://localhost:8080/",
          "height": 119
        }
      },
      "source": [
        "df1.columns"
      ],
      "execution_count": null,
      "outputs": [
        {
          "output_type": "execute_result",
          "data": {
            "text/plain": [
              "Index(['customerID', 'gender', 'SeniorCitizen', 'Partner', 'Dependents',\n",
              "       'tenure', 'PhoneService', 'MultipleLines', 'InternetService',\n",
              "       'OnlineSecurity', 'OnlineBackup', 'DeviceProtection', 'TechSupport',\n",
              "       'StreamingTV', 'StreamingMovies', 'Contract', 'PaperlessBilling',\n",
              "       'PaymentMethod', 'MonthlyCharges', 'TotalCharges', 'Churn'],\n",
              "      dtype='object')"
            ]
          },
          "metadata": {
            "tags": []
          },
          "execution_count": 26
        }
      ]
    },
    {
      "cell_type": "markdown",
      "metadata": {
        "id": "59zVQIAnvi0B"
      },
      "source": [
        "Removing columns that aren't in the test dataset"
      ]
    },
    {
      "cell_type": "code",
      "metadata": {
        "id": "3dEB0MpcQS1x"
      },
      "source": [
        "df1.drop(['Partner', 'Dependents', 'PhoneService', 'MultipleLines', 'OnlineSecurity', 'OnlineBackup', 'DeviceProtection','TechSupport', 'StreamingTV', 'StreamingMovies', 'PaperlessBilling'], axis = 1, inplace = True)"
      ],
      "execution_count": null,
      "outputs": []
    },
    {
      "cell_type": "code",
      "metadata": {
        "id": "AWW1S81uQS11",
        "outputId": "50db100e-d526-4177-f90e-cea6f3256f75",
        "colab": {
          "base_uri": "https://localhost:8080/",
          "height": 68
        }
      },
      "source": [
        "df1.columns"
      ],
      "execution_count": null,
      "outputs": [
        {
          "output_type": "execute_result",
          "data": {
            "text/plain": [
              "Index(['customerID', 'gender', 'SeniorCitizen', 'tenure', 'InternetService',\n",
              "       'Contract', 'PaymentMethod', 'MonthlyCharges', 'TotalCharges', 'Churn'],\n",
              "      dtype='object')"
            ]
          },
          "metadata": {
            "tags": []
          },
          "execution_count": 20
        }
      ]
    },
    {
      "cell_type": "code",
      "metadata": {
        "id": "Jy43kEnJQS19",
        "outputId": "179800db-ff0d-476c-8669-107a73557adf",
        "colab": {
          "base_uri": "https://localhost:8080/",
          "height": 68
        }
      },
      "source": [
        "df2.columns"
      ],
      "execution_count": null,
      "outputs": [
        {
          "output_type": "execute_result",
          "data": {
            "text/plain": [
              "Index(['customerID', 'gender', 'Senior Citizen', 'tenure', 'InternetService',\n",
              "       'Contract', 'PaymentMethod', 'MonthlyCharges', 'TotalCharges'],\n",
              "      dtype='object')"
            ]
          },
          "metadata": {
            "tags": []
          },
          "execution_count": 21
        }
      ]
    },
    {
      "cell_type": "code",
      "metadata": {
        "id": "eDHfcCS9QS2B",
        "outputId": "bb007b76-639a-4748-c904-f0645f125735",
        "colab": {
          "base_uri": "https://localhost:8080/",
          "height": 153
        }
      },
      "source": [
        "for i in df1.columns:\n",
        "    for x in df2.columns:\n",
        "        if i == x:\n",
        "            print('True')"
      ],
      "execution_count": null,
      "outputs": [
        {
          "output_type": "stream",
          "text": [
            "True\n",
            "True\n",
            "True\n",
            "True\n",
            "True\n",
            "True\n",
            "True\n",
            "True\n"
          ],
          "name": "stdout"
        }
      ]
    },
    {
      "cell_type": "code",
      "metadata": {
        "id": "HWlnHjXfQS2E",
        "outputId": "8bf2a09f-2bda-4eba-bf49-7f44cf69eab5",
        "colab": {
          "base_uri": "https://localhost:8080/",
          "height": 204
        }
      },
      "source": [
        "df1.head()"
      ],
      "execution_count": null,
      "outputs": [
        {
          "output_type": "execute_result",
          "data": {
            "text/html": [
              "<div>\n",
              "<style scoped>\n",
              "    .dataframe tbody tr th:only-of-type {\n",
              "        vertical-align: middle;\n",
              "    }\n",
              "\n",
              "    .dataframe tbody tr th {\n",
              "        vertical-align: top;\n",
              "    }\n",
              "\n",
              "    .dataframe thead th {\n",
              "        text-align: right;\n",
              "    }\n",
              "</style>\n",
              "<table border=\"1\" class=\"dataframe\">\n",
              "  <thead>\n",
              "    <tr style=\"text-align: right;\">\n",
              "      <th></th>\n",
              "      <th>customerID</th>\n",
              "      <th>gender</th>\n",
              "      <th>SeniorCitizen</th>\n",
              "      <th>tenure</th>\n",
              "      <th>InternetService</th>\n",
              "      <th>Contract</th>\n",
              "      <th>PaymentMethod</th>\n",
              "      <th>MonthlyCharges</th>\n",
              "      <th>TotalCharges</th>\n",
              "      <th>Churn</th>\n",
              "    </tr>\n",
              "  </thead>\n",
              "  <tbody>\n",
              "    <tr>\n",
              "      <th>0</th>\n",
              "      <td>7590-VHVEG</td>\n",
              "      <td>Female</td>\n",
              "      <td>0</td>\n",
              "      <td>1</td>\n",
              "      <td>DSL</td>\n",
              "      <td>Month-to-month</td>\n",
              "      <td>Electronic check</td>\n",
              "      <td>29.85</td>\n",
              "      <td>29.85</td>\n",
              "      <td>No</td>\n",
              "    </tr>\n",
              "    <tr>\n",
              "      <th>1</th>\n",
              "      <td>5575-GNVDE</td>\n",
              "      <td>Male</td>\n",
              "      <td>0</td>\n",
              "      <td>34</td>\n",
              "      <td>DSL</td>\n",
              "      <td>One year</td>\n",
              "      <td>Mailed check</td>\n",
              "      <td>56.95</td>\n",
              "      <td>1889.5</td>\n",
              "      <td>No</td>\n",
              "    </tr>\n",
              "    <tr>\n",
              "      <th>2</th>\n",
              "      <td>3668-QPYBK</td>\n",
              "      <td>Male</td>\n",
              "      <td>0</td>\n",
              "      <td>2</td>\n",
              "      <td>DSL</td>\n",
              "      <td>Month-to-month</td>\n",
              "      <td>Mailed check</td>\n",
              "      <td>53.85</td>\n",
              "      <td>108.15</td>\n",
              "      <td>Yes</td>\n",
              "    </tr>\n",
              "    <tr>\n",
              "      <th>3</th>\n",
              "      <td>7795-CFOCW</td>\n",
              "      <td>Male</td>\n",
              "      <td>0</td>\n",
              "      <td>45</td>\n",
              "      <td>DSL</td>\n",
              "      <td>One year</td>\n",
              "      <td>Bank transfer (automatic)</td>\n",
              "      <td>42.30</td>\n",
              "      <td>1840.75</td>\n",
              "      <td>No</td>\n",
              "    </tr>\n",
              "    <tr>\n",
              "      <th>4</th>\n",
              "      <td>9237-HQITU</td>\n",
              "      <td>Female</td>\n",
              "      <td>0</td>\n",
              "      <td>2</td>\n",
              "      <td>Fiber optic</td>\n",
              "      <td>Month-to-month</td>\n",
              "      <td>Electronic check</td>\n",
              "      <td>70.70</td>\n",
              "      <td>151.65</td>\n",
              "      <td>Yes</td>\n",
              "    </tr>\n",
              "  </tbody>\n",
              "</table>\n",
              "</div>"
            ],
            "text/plain": [
              "   customerID  gender  SeniorCitizen  ...  MonthlyCharges TotalCharges Churn\n",
              "0  7590-VHVEG  Female              0  ...           29.85        29.85    No\n",
              "1  5575-GNVDE    Male              0  ...           56.95       1889.5    No\n",
              "2  3668-QPYBK    Male              0  ...           53.85       108.15   Yes\n",
              "3  7795-CFOCW    Male              0  ...           42.30      1840.75    No\n",
              "4  9237-HQITU  Female              0  ...           70.70       151.65   Yes\n",
              "\n",
              "[5 rows x 10 columns]"
            ]
          },
          "metadata": {
            "tags": []
          },
          "execution_count": 24
        }
      ]
    },
    {
      "cell_type": "code",
      "metadata": {
        "id": "XxDSJe6Tvx96",
        "outputId": "a38747cf-7059-4027-bc67-6d2261e0041c",
        "colab": {
          "base_uri": "https://localhost:8080/",
          "height": 204
        }
      },
      "source": [
        "#Check for null values and remove those rows (display percentage though)\n",
        "df1.isnull().sum() "
      ],
      "execution_count": null,
      "outputs": [
        {
          "output_type": "execute_result",
          "data": {
            "text/plain": [
              "customerID         0\n",
              "gender             0\n",
              "SeniorCitizen      0\n",
              "tenure             0\n",
              "InternetService    0\n",
              "Contract           0\n",
              "PaymentMethod      0\n",
              "MonthlyCharges     0\n",
              "TotalCharges       0\n",
              "Churn              0\n",
              "dtype: int64"
            ]
          },
          "metadata": {
            "tags": []
          },
          "execution_count": 26
        }
      ]
    },
    {
      "cell_type": "code",
      "metadata": {
        "id": "HfUWDRNtxtgj",
        "outputId": "9f40e660-f60b-47d2-ab9d-896b7347fd8e",
        "colab": {
          "base_uri": "https://localhost:8080/",
          "height": 1000
        }
      },
      "source": [
        "for i in df2.columns:\n",
        "  print(i, df2[i].unique())"
      ],
      "execution_count": null,
      "outputs": [
        {
          "output_type": "stream",
          "text": [
            "customerID ['9398-MMQTO' '7619-PLRLP' '6457-GIRWB' ... '1941-HOSAM' '9110-HSGTV'\n",
            " '6171-ZTVYB']\n",
            "gender ['Male' 'Female']\n",
            "Senior Citizen [0 1]\n",
            "tenure [ 3 53  1 56  5 48 58 10 71 65 28 67 35 72 61 70 68 47 32 13 12  9 38 42\n",
            " 24 27 49 50 25 22  4 18 51 62 16  8 23 31 37 30 20 36 57 41 64 26 40 34\n",
            " 63 44  6 33 43 59 14 19  2 66 54 11 15 29 45 52 21 69 17 46  7 55 60 39]\n",
            "InternetService ['Fiber optic' 'DSL']\n",
            "Contract ['Month-to-month' 'One year' 'Two year']\n",
            "PaymentMethod ['Credit card (automatic)' 'Bank transfer (automatic)' 'Electronic check'\n",
            " 'Mailed check']\n",
            "MonthlyCharges [ 74.45  74.1   69.35  73.85  64.4   55.8   75.15  99.15  56.75  69.6\n",
            " 104.15 110.8   80.15  35.75  69.9   89.2   55.65  50.7   30.5   98.3\n",
            "  45.55 101.05 103.7   36.25  49.4  107.4   82.    45.05  64.55  86.25\n",
            "  89.1   95.55  75.4  101.25 102.6   56.3   94.2   43.05  89.5   74.4\n",
            "  74.35  99.75 111.95  94.    98.85  64.35  72.    49.7   80.7   24.2\n",
            "  39.    65.45  83.2   25.    40.2   94.1  108.35  69.5   76.    93.6\n",
            "  95.65 100.55  88.05  89.55  66.5   76.1   80.5   35.45  49.9  105.4\n",
            "  95.1  104.5   63.1   75.05  81.    60.4   84.95  93.4   85.2   49.95\n",
            "  70.65  59.8  104.95 103.5   84.8   95.05  44.2   73.35  64.1   44.4\n",
            "  29.95  45.3   84.5   74.75  79.25  24.8   51.8   30.4   56.6   71.9\n",
            "  91.   109.7   96.55 111.35 112.25 101.9   80.05 105.55  78.3   68.85\n",
            "  79.95  55.45  79.9  106.6  102.45  46.    25.25  86.8   58.75  45.25\n",
            "  84.2   80.    70.15  50.05  50.6   81.15  55.2   89.9   85.3  108.\n",
            "  93.5   84.6   54.4   29.6   73.15  95.    86.6  109.2   74.7   94.4\n",
            "  54.8   75.35  65.    48.55  99.    70.4   83.7   59.55 115.1  114.35\n",
            "  44.6   45.    41.15 106.9   89.85  49.85 113.3   88.1  105.    94.45\n",
            "  59.75 107.05  70.6   85.4  105.05  64.95  55.    50.55  55.15  51.2\n",
            "  54.45  95.15  44.35  70.    74.5   44.85  61.2   89.35  76.05 100.8\n",
            "  74.55  73.6   64.9   95.45  90.4   60.3   81.85  74.9   75.55 101.15\n",
            "  78.75  89.05 115.05  80.6  110.05  80.3   93.15  91.5   82.45  60.\n",
            "  44.8   48.6   60.05 102.7   82.9   70.35  35.9   82.65  94.9   75.8\n",
            " 104.6   88.15  94.8  103.4   54.65  85.75  67.45  72.1   44.95  97.\n",
            "  62.8   89.15  41.9   80.25  54.1  105.25  30.75  97.1   98.8   50.3\n",
            "  75.9   96.5   59.95  98.65 112.6   85.65  96.1   85.1   25.35  89.65\n",
            "  86.75  86.2   50.65  64.8   90.85 108.1   85.45  54.75  44.    95.6\n",
            "  44.3   90.05 109.9   73.95  54.6   99.45  55.9   95.4   93.95  81.35\n",
            "  74.95  87.35  73.25  98.7   83.3   75.3   69.85  40.7   51.65 105.1\n",
            "  85.95  75.6   58.25  65.2   79.05 108.05  30.15  79.85  65.5  104.1\n",
            "  91.35  99.05  55.1   58.95  44.7   81.75  86.1   29.8   60.9   45.7\n",
            " 100.3   77.35  96.    90.55  93.85  70.1   30.35  75.95  75.25 103.75\n",
            "  54.95  47.85  43.8   94.3   70.3   95.35  75.5   69.55  95.85  90.1\n",
            "  68.95  99.55  50.15  58.65  95.9   49.5   57.45  53.65  80.1   40.05\n",
            "  51.05  54.35  84.7  110.   100.6   83.75  88.3   69.75  71.6   92.1\n",
            " 114.7   49.15  80.9   79.45  90.45  70.2   54.25  99.3   74.    50.25\n",
            "  43.65  35.5   80.75  39.5   90.6  112.4   50.2   62.25  55.7   89.25\n",
            "  54.    49.05  98.05  96.65 114.5   79.2   80.95  74.3   89.7   87.65\n",
            " 100.45 107.45  68.5   80.55  81.25  56.15 105.2   79.75  97.45  39.6\n",
            "  78.95  53.85  89.45  59.5   70.55  82.5   61.6  105.65  74.65  66.25\n",
            "  86.05  64.7  104.05  81.95 114.65  65.15  88.95  75.2   56.8   35.55\n",
            "  35.6   60.25  40.35  54.85  69.7   38.55  53.1   64.45  76.35  79.15\n",
            "  85.    79.35  98.35  51.35  45.65  86.55  54.2   90.65  50.9   74.85\n",
            "  63.55  47.95  45.1  108.65  66.4   35.1   46.2   45.15  43.3   57.15\n",
            "  58.9   73.2   85.35  45.95  50.5   60.7  104.4   44.05  93.8   86.45\n",
            " 114.1   95.2   88.55  70.05  86.    44.65  60.2  100.5   72.65  31.1\n",
            "  50.95  69.1   43.95  86.5   69.95  50.4   90.95  92.    36.    78.5\n",
            " 106.1   95.5   64.6   51.1   60.35  99.8  107.35  81.05 111.8   79.1\n",
            "  60.5   71.5   49.8   25.5   90.25  91.85  75.45 101.3   84.85  34.25\n",
            "  88.6   60.15  99.95  70.7   49.55  78.6   53.6   81.1   85.6   80.8\n",
            "  93.55  90.7   95.25 102.1   80.85  90.9   29.2   93.3  108.85  46.35\n",
            "  84.75  83.55  67.85  45.2   47.15  80.2   87.1   85.7   98.75  61.8\n",
            " 108.15  95.7  116.85 105.75  60.95  25.05  63.95  90.8   69.65 110.5\n",
            "  24.7   77.4   96.8   47.6  103.85  83.35 108.45  86.65  92.95  90.35\n",
            "  48.7   76.4  103.15 100.75  59.1   71.35  55.85 106.05  84.1   93.2\n",
            "  33.65  39.7   29.5   79.55  94.05  90.75  78.85  99.5   99.2   59.45\n",
            "  93.35  59.4   61.9  118.65  75.85  80.45  24.95  98.1  108.9   56.2\n",
            " 109.65  48.85  56.05  89.8  100.95 104.9   24.1   59.85  36.65 103.9\n",
            "  88.35 109.55  94.65  61.4   70.75  61.15  63.85  84.4   25.1   48.25\n",
            "  99.6   62.15  79.3   56.25  85.9   63.8  101.4   63.75 109.25  91.1\n",
            " 107.95  94.7   87.   102.95  64.    90.15 116.1   71.    50.    79.7\n",
            "  59.    63.4   53.95  69.25  70.95  48.8   89.    99.4   73.5   63.9\n",
            "  64.85  44.45  43.35  53.9   85.05  44.1   90.2   50.85  59.2   53.45\n",
            "  54.9   57.5   94.15  55.6   84.45  73.75  96.05  68.4  107.6   61.55\n",
            "  99.25  91.7  100.7   78.45  84.3  113.65  53.4   87.8   83.    92.15\n",
            "  58.35  69.8   95.95 107.75  71.3   60.8   98.15  35.35  81.4   61.45\n",
            " 104.8   97.65  35.65  85.25  88.8   86.95  94.75 105.45 102.55 100.2\n",
            "  74.05  98.25 101.55 103.1   34.2   43.75 100.65  55.95 116.05  45.75\n",
            "  79.8   88.85 106.85  56.1   51.3  118.6  115.5  109.1  111.3   29.9\n",
            "  35.2   78.8   89.95 106.4  115.25  86.4   66.3   82.05  34.7  109.4\n",
            "  71.05  78.55  40.25  68.25  78.65  25.15  42.9   58.5   88.9   57.65\n",
            "  96.2   45.9  105.3   61.35  57.55  29.25  84.55 111.75  40.1  110.3\n",
            "  73.9   85.15  72.25  73.55  58.55  86.35 110.1   65.6   82.1   75.75\n",
            "  80.35  84.05  78.25 114.75  96.25 101.1  104.7   77.9  110.45  68.7\n",
            "  86.9   59.65  55.25  53.75  56.9   89.3  109.6   66.75  79.65  59.7\n",
            "  33.7  108.75  41.1  105.9   40.45  70.45  83.65]\n",
            "TotalCharges [ 221.1  3833.95   69.35 ...   90.1  5555.3  2907.35]\n"
          ],
          "name": "stdout"
        }
      ]
    },
    {
      "cell_type": "code",
      "metadata": {
        "id": "ImDUamVqxQYN",
        "outputId": "829dc995-982d-4495-8bb4-5ccf27fd201e",
        "colab": {
          "base_uri": "https://localhost:8080/",
          "height": 272
        }
      },
      "source": [
        "#Look at unique values and see if they need fixing (split fix)\n",
        "for i in df1.columns:\n",
        "  print(i, df1[i].unique())"
      ],
      "execution_count": null,
      "outputs": [
        {
          "output_type": "stream",
          "text": [
            "customerID ['7590-VHVEG' '5575-GNVDE' '3668-QPYBK' ... '4801-JZAZL' '8361-LTMKD'\n",
            " '3186-AJIEK']\n",
            "gender ['Female' 'Male']\n",
            "SeniorCitizen [0 1]\n",
            "tenure [ 1 34  2 45  8 22 10 28 62 13 16 58 49 25 69 52 71 21 12 30 47 72 17 27\n",
            "  5 46 11 70 63 43 15 60 18 66  9  3 31 50 64 56  7 42 35 48 29 65 38 68\n",
            " 32 55 37 36 41  6  4 33 67 23 57 61 14 20 53 26 54 24 44  0 40 39 59 51\n",
            " 19]\n",
            "InternetService ['DSL' 'Fiber optic' 'No']\n",
            "Contract ['Month-to-month' 'One year' 'Two year']\n",
            "PaymentMethod ['Electronic check' 'Mailed check' 'Bank transfer (automatic)'\n",
            " 'Credit card (automatic)']\n",
            "MonthlyCharges [29.85 56.95 53.85 ... 61.1  68.45 78.7 ]\n",
            "TotalCharges ['29.85' '1889.5' '108.15' ... '346.45' '306.6' '6844.5']\n",
            "Churn ['No' 'Yes']\n"
          ],
          "name": "stdout"
        }
      ]
    },
    {
      "cell_type": "code",
      "metadata": {
        "id": "0zn6LXwszbGA",
        "outputId": "ae00b575-289c-44db-9a3d-36ca7fc043f6",
        "colab": {
          "base_uri": "https://localhost:8080/",
          "height": 306
        }
      },
      "source": [
        "#Change data types if necessary\n",
        "df1.info()"
      ],
      "execution_count": null,
      "outputs": [
        {
          "output_type": "stream",
          "text": [
            "<class 'pandas.core.frame.DataFrame'>\n",
            "RangeIndex: 5674 entries, 0 to 5673\n",
            "Data columns (total 10 columns):\n",
            " #   Column           Non-Null Count  Dtype  \n",
            "---  ------           --------------  -----  \n",
            " 0   customerID       5674 non-null   object \n",
            " 1   gender           5674 non-null   object \n",
            " 2   SeniorCitizen    5674 non-null   int64  \n",
            " 3   tenure           5674 non-null   int64  \n",
            " 4   InternetService  5674 non-null   object \n",
            " 5   Contract         5674 non-null   object \n",
            " 6   PaymentMethod    5674 non-null   object \n",
            " 7   MonthlyCharges   5674 non-null   float64\n",
            " 8   TotalCharges     5674 non-null   object \n",
            " 9   Churn            5674 non-null   object \n",
            "dtypes: float64(1), int64(2), object(7)\n",
            "memory usage: 443.4+ KB\n"
          ],
          "name": "stdout"
        }
      ]
    },
    {
      "cell_type": "code",
      "metadata": {
        "id": "cdRkyY4Zz1ZE",
        "outputId": "dfac5abf-53bc-44bc-82ec-0cd19feaff76",
        "colab": {
          "base_uri": "https://localhost:8080/",
          "height": 782
        }
      },
      "source": [
        "df1['TotalCharges'] = df1['TotalCharges'].astype(float)"
      ],
      "execution_count": null,
      "outputs": [
        {
          "output_type": "error",
          "ename": "ValueError",
          "evalue": "ignored",
          "traceback": [
            "\u001b[0;31m---------------------------------------------------------------------------\u001b[0m",
            "\u001b[0;31mValueError\u001b[0m                                Traceback (most recent call last)",
            "\u001b[0;32m<ipython-input-32-58c899e30c05>\u001b[0m in \u001b[0;36m<module>\u001b[0;34m()\u001b[0m\n\u001b[0;32m----> 1\u001b[0;31m \u001b[0mdf1\u001b[0m\u001b[0;34m[\u001b[0m\u001b[0;34m'TotalCharges'\u001b[0m\u001b[0;34m]\u001b[0m \u001b[0;34m=\u001b[0m \u001b[0mdf1\u001b[0m\u001b[0;34m[\u001b[0m\u001b[0;34m'TotalCharges'\u001b[0m\u001b[0;34m]\u001b[0m\u001b[0;34m.\u001b[0m\u001b[0mastype\u001b[0m\u001b[0;34m(\u001b[0m\u001b[0mfloat\u001b[0m\u001b[0;34m)\u001b[0m\u001b[0;34m\u001b[0m\u001b[0;34m\u001b[0m\u001b[0m\n\u001b[0m",
            "\u001b[0;32m/usr/local/lib/python3.6/dist-packages/pandas/core/generic.py\u001b[0m in \u001b[0;36mastype\u001b[0;34m(self, dtype, copy, errors)\u001b[0m\n\u001b[1;32m   5541\u001b[0m         \u001b[0;32melse\u001b[0m\u001b[0;34m:\u001b[0m\u001b[0;34m\u001b[0m\u001b[0;34m\u001b[0m\u001b[0m\n\u001b[1;32m   5542\u001b[0m             \u001b[0;31m# else, only a single dtype is given\u001b[0m\u001b[0;34m\u001b[0m\u001b[0;34m\u001b[0m\u001b[0;34m\u001b[0m\u001b[0m\n\u001b[0;32m-> 5543\u001b[0;31m             \u001b[0mnew_data\u001b[0m \u001b[0;34m=\u001b[0m \u001b[0mself\u001b[0m\u001b[0;34m.\u001b[0m\u001b[0m_mgr\u001b[0m\u001b[0;34m.\u001b[0m\u001b[0mastype\u001b[0m\u001b[0;34m(\u001b[0m\u001b[0mdtype\u001b[0m\u001b[0;34m=\u001b[0m\u001b[0mdtype\u001b[0m\u001b[0;34m,\u001b[0m \u001b[0mcopy\u001b[0m\u001b[0;34m=\u001b[0m\u001b[0mcopy\u001b[0m\u001b[0;34m,\u001b[0m \u001b[0merrors\u001b[0m\u001b[0;34m=\u001b[0m\u001b[0merrors\u001b[0m\u001b[0;34m,\u001b[0m\u001b[0;34m)\u001b[0m\u001b[0;34m\u001b[0m\u001b[0;34m\u001b[0m\u001b[0m\n\u001b[0m\u001b[1;32m   5544\u001b[0m             \u001b[0;32mreturn\u001b[0m \u001b[0mself\u001b[0m\u001b[0;34m.\u001b[0m\u001b[0m_constructor\u001b[0m\u001b[0;34m(\u001b[0m\u001b[0mnew_data\u001b[0m\u001b[0;34m)\u001b[0m\u001b[0;34m.\u001b[0m\u001b[0m__finalize__\u001b[0m\u001b[0;34m(\u001b[0m\u001b[0mself\u001b[0m\u001b[0;34m,\u001b[0m \u001b[0mmethod\u001b[0m\u001b[0;34m=\u001b[0m\u001b[0;34m\"astype\"\u001b[0m\u001b[0;34m)\u001b[0m\u001b[0;34m\u001b[0m\u001b[0;34m\u001b[0m\u001b[0m\n\u001b[1;32m   5545\u001b[0m \u001b[0;34m\u001b[0m\u001b[0m\n",
            "\u001b[0;32m/usr/local/lib/python3.6/dist-packages/pandas/core/internals/managers.py\u001b[0m in \u001b[0;36mastype\u001b[0;34m(self, dtype, copy, errors)\u001b[0m\n\u001b[1;32m    593\u001b[0m         \u001b[0mself\u001b[0m\u001b[0;34m,\u001b[0m \u001b[0mdtype\u001b[0m\u001b[0;34m,\u001b[0m \u001b[0mcopy\u001b[0m\u001b[0;34m:\u001b[0m \u001b[0mbool\u001b[0m \u001b[0;34m=\u001b[0m \u001b[0;32mFalse\u001b[0m\u001b[0;34m,\u001b[0m \u001b[0merrors\u001b[0m\u001b[0;34m:\u001b[0m \u001b[0mstr\u001b[0m \u001b[0;34m=\u001b[0m \u001b[0;34m\"raise\"\u001b[0m\u001b[0;34m\u001b[0m\u001b[0;34m\u001b[0m\u001b[0m\n\u001b[1;32m    594\u001b[0m     ) -> \"BlockManager\":\n\u001b[0;32m--> 595\u001b[0;31m         \u001b[0;32mreturn\u001b[0m \u001b[0mself\u001b[0m\u001b[0;34m.\u001b[0m\u001b[0mapply\u001b[0m\u001b[0;34m(\u001b[0m\u001b[0;34m\"astype\"\u001b[0m\u001b[0;34m,\u001b[0m \u001b[0mdtype\u001b[0m\u001b[0;34m=\u001b[0m\u001b[0mdtype\u001b[0m\u001b[0;34m,\u001b[0m \u001b[0mcopy\u001b[0m\u001b[0;34m=\u001b[0m\u001b[0mcopy\u001b[0m\u001b[0;34m,\u001b[0m \u001b[0merrors\u001b[0m\u001b[0;34m=\u001b[0m\u001b[0merrors\u001b[0m\u001b[0;34m)\u001b[0m\u001b[0;34m\u001b[0m\u001b[0;34m\u001b[0m\u001b[0m\n\u001b[0m\u001b[1;32m    596\u001b[0m \u001b[0;34m\u001b[0m\u001b[0m\n\u001b[1;32m    597\u001b[0m     def convert(\n",
            "\u001b[0;32m/usr/local/lib/python3.6/dist-packages/pandas/core/internals/managers.py\u001b[0m in \u001b[0;36mapply\u001b[0;34m(self, f, align_keys, **kwargs)\u001b[0m\n\u001b[1;32m    404\u001b[0m                 \u001b[0mapplied\u001b[0m \u001b[0;34m=\u001b[0m \u001b[0mb\u001b[0m\u001b[0;34m.\u001b[0m\u001b[0mapply\u001b[0m\u001b[0;34m(\u001b[0m\u001b[0mf\u001b[0m\u001b[0;34m,\u001b[0m \u001b[0;34m**\u001b[0m\u001b[0mkwargs\u001b[0m\u001b[0;34m)\u001b[0m\u001b[0;34m\u001b[0m\u001b[0;34m\u001b[0m\u001b[0m\n\u001b[1;32m    405\u001b[0m             \u001b[0;32melse\u001b[0m\u001b[0;34m:\u001b[0m\u001b[0;34m\u001b[0m\u001b[0;34m\u001b[0m\u001b[0m\n\u001b[0;32m--> 406\u001b[0;31m                 \u001b[0mapplied\u001b[0m \u001b[0;34m=\u001b[0m \u001b[0mgetattr\u001b[0m\u001b[0;34m(\u001b[0m\u001b[0mb\u001b[0m\u001b[0;34m,\u001b[0m \u001b[0mf\u001b[0m\u001b[0;34m)\u001b[0m\u001b[0;34m(\u001b[0m\u001b[0;34m**\u001b[0m\u001b[0mkwargs\u001b[0m\u001b[0;34m)\u001b[0m\u001b[0;34m\u001b[0m\u001b[0;34m\u001b[0m\u001b[0m\n\u001b[0m\u001b[1;32m    407\u001b[0m             \u001b[0mresult_blocks\u001b[0m \u001b[0;34m=\u001b[0m \u001b[0m_extend_blocks\u001b[0m\u001b[0;34m(\u001b[0m\u001b[0mapplied\u001b[0m\u001b[0;34m,\u001b[0m \u001b[0mresult_blocks\u001b[0m\u001b[0;34m)\u001b[0m\u001b[0;34m\u001b[0m\u001b[0;34m\u001b[0m\u001b[0m\n\u001b[1;32m    408\u001b[0m \u001b[0;34m\u001b[0m\u001b[0m\n",
            "\u001b[0;32m/usr/local/lib/python3.6/dist-packages/pandas/core/internals/blocks.py\u001b[0m in \u001b[0;36mastype\u001b[0;34m(self, dtype, copy, errors)\u001b[0m\n\u001b[1;32m    592\u001b[0m             \u001b[0mvals1d\u001b[0m \u001b[0;34m=\u001b[0m \u001b[0mvalues\u001b[0m\u001b[0;34m.\u001b[0m\u001b[0mravel\u001b[0m\u001b[0;34m(\u001b[0m\u001b[0;34m)\u001b[0m\u001b[0;34m\u001b[0m\u001b[0;34m\u001b[0m\u001b[0m\n\u001b[1;32m    593\u001b[0m             \u001b[0;32mtry\u001b[0m\u001b[0;34m:\u001b[0m\u001b[0;34m\u001b[0m\u001b[0;34m\u001b[0m\u001b[0m\n\u001b[0;32m--> 594\u001b[0;31m                 \u001b[0mvalues\u001b[0m \u001b[0;34m=\u001b[0m \u001b[0mastype_nansafe\u001b[0m\u001b[0;34m(\u001b[0m\u001b[0mvals1d\u001b[0m\u001b[0;34m,\u001b[0m \u001b[0mdtype\u001b[0m\u001b[0;34m,\u001b[0m \u001b[0mcopy\u001b[0m\u001b[0;34m=\u001b[0m\u001b[0;32mTrue\u001b[0m\u001b[0;34m)\u001b[0m\u001b[0;34m\u001b[0m\u001b[0;34m\u001b[0m\u001b[0m\n\u001b[0m\u001b[1;32m    595\u001b[0m             \u001b[0;32mexcept\u001b[0m \u001b[0;34m(\u001b[0m\u001b[0mValueError\u001b[0m\u001b[0;34m,\u001b[0m \u001b[0mTypeError\u001b[0m\u001b[0;34m)\u001b[0m\u001b[0;34m:\u001b[0m\u001b[0;34m\u001b[0m\u001b[0;34m\u001b[0m\u001b[0m\n\u001b[1;32m    596\u001b[0m                 \u001b[0;31m# e.g. astype_nansafe can fail on object-dtype of strings\u001b[0m\u001b[0;34m\u001b[0m\u001b[0;34m\u001b[0m\u001b[0;34m\u001b[0m\u001b[0m\n",
            "\u001b[0;32m/usr/local/lib/python3.6/dist-packages/pandas/core/dtypes/cast.py\u001b[0m in \u001b[0;36mastype_nansafe\u001b[0;34m(arr, dtype, copy, skipna)\u001b[0m\n\u001b[1;32m    988\u001b[0m     \u001b[0;32mif\u001b[0m \u001b[0mcopy\u001b[0m \u001b[0;32mor\u001b[0m \u001b[0mis_object_dtype\u001b[0m\u001b[0;34m(\u001b[0m\u001b[0marr\u001b[0m\u001b[0;34m)\u001b[0m \u001b[0;32mor\u001b[0m \u001b[0mis_object_dtype\u001b[0m\u001b[0;34m(\u001b[0m\u001b[0mdtype\u001b[0m\u001b[0;34m)\u001b[0m\u001b[0;34m:\u001b[0m\u001b[0;34m\u001b[0m\u001b[0;34m\u001b[0m\u001b[0m\n\u001b[1;32m    989\u001b[0m         \u001b[0;31m# Explicit copy, or required since NumPy can't view from / to object.\u001b[0m\u001b[0;34m\u001b[0m\u001b[0;34m\u001b[0m\u001b[0;34m\u001b[0m\u001b[0m\n\u001b[0;32m--> 990\u001b[0;31m         \u001b[0;32mreturn\u001b[0m \u001b[0marr\u001b[0m\u001b[0;34m.\u001b[0m\u001b[0mastype\u001b[0m\u001b[0;34m(\u001b[0m\u001b[0mdtype\u001b[0m\u001b[0;34m,\u001b[0m \u001b[0mcopy\u001b[0m\u001b[0;34m=\u001b[0m\u001b[0;32mTrue\u001b[0m\u001b[0;34m)\u001b[0m\u001b[0;34m\u001b[0m\u001b[0;34m\u001b[0m\u001b[0m\n\u001b[0m\u001b[1;32m    991\u001b[0m \u001b[0;34m\u001b[0m\u001b[0m\n\u001b[1;32m    992\u001b[0m     \u001b[0;32mreturn\u001b[0m \u001b[0marr\u001b[0m\u001b[0;34m.\u001b[0m\u001b[0mview\u001b[0m\u001b[0;34m(\u001b[0m\u001b[0mdtype\u001b[0m\u001b[0;34m)\u001b[0m\u001b[0;34m\u001b[0m\u001b[0;34m\u001b[0m\u001b[0m\n",
            "\u001b[0;31mValueError\u001b[0m: could not convert string to float: "
          ]
        }
      ]
    },
    {
      "cell_type": "code",
      "metadata": {
        "id": "DXOF0PDi2CmQ",
        "outputId": "6bc0a7cb-efbd-4653-fe00-d952990a30fa",
        "colab": {
          "base_uri": "https://localhost:8080/",
          "height": 187
        }
      },
      "source": [
        "\n",
        "for i in df1['TotalCharges']:\n",
        "  try:\n",
        "    float(i)\n",
        "  except ValueError:\n",
        "    print('value is', i)\n"
      ],
      "execution_count": null,
      "outputs": [
        {
          "output_type": "stream",
          "text": [
            "value is  \n",
            "value is  \n",
            "value is  \n",
            "value is  \n",
            "value is  \n",
            "value is  \n",
            "value is  \n",
            "value is  \n",
            "value is  \n",
            "value is  \n"
          ],
          "name": "stdout"
        }
      ]
    },
    {
      "cell_type": "code",
      "metadata": {
        "id": "41dGdK8C3Knt",
        "outputId": "1817c6dd-ccea-4b0e-ef62-a269e16600f9",
        "colab": {
          "base_uri": "https://localhost:8080/",
          "height": 359
        }
      },
      "source": [
        "df1[df1['TotalCharges']==' ']"
      ],
      "execution_count": null,
      "outputs": [
        {
          "output_type": "execute_result",
          "data": {
            "text/html": [
              "<div>\n",
              "<style scoped>\n",
              "    .dataframe tbody tr th:only-of-type {\n",
              "        vertical-align: middle;\n",
              "    }\n",
              "\n",
              "    .dataframe tbody tr th {\n",
              "        vertical-align: top;\n",
              "    }\n",
              "\n",
              "    .dataframe thead th {\n",
              "        text-align: right;\n",
              "    }\n",
              "</style>\n",
              "<table border=\"1\" class=\"dataframe\">\n",
              "  <thead>\n",
              "    <tr style=\"text-align: right;\">\n",
              "      <th></th>\n",
              "      <th>customerID</th>\n",
              "      <th>gender</th>\n",
              "      <th>SeniorCitizen</th>\n",
              "      <th>tenure</th>\n",
              "      <th>InternetService</th>\n",
              "      <th>Contract</th>\n",
              "      <th>PaymentMethod</th>\n",
              "      <th>MonthlyCharges</th>\n",
              "      <th>TotalCharges</th>\n",
              "      <th>Churn</th>\n",
              "    </tr>\n",
              "  </thead>\n",
              "  <tbody>\n",
              "    <tr>\n",
              "      <th>236</th>\n",
              "      <td>4472-LVYGI</td>\n",
              "      <td>Female</td>\n",
              "      <td>0</td>\n",
              "      <td>0</td>\n",
              "      <td>DSL</td>\n",
              "      <td>Two year</td>\n",
              "      <td>Bank transfer (automatic)</td>\n",
              "      <td>52.55</td>\n",
              "      <td></td>\n",
              "      <td>No</td>\n",
              "    </tr>\n",
              "    <tr>\n",
              "      <th>501</th>\n",
              "      <td>3115-CZMZD</td>\n",
              "      <td>Male</td>\n",
              "      <td>0</td>\n",
              "      <td>0</td>\n",
              "      <td>No</td>\n",
              "      <td>Two year</td>\n",
              "      <td>Mailed check</td>\n",
              "      <td>20.25</td>\n",
              "      <td></td>\n",
              "      <td>No</td>\n",
              "    </tr>\n",
              "    <tr>\n",
              "      <th>684</th>\n",
              "      <td>5709-LVOEQ</td>\n",
              "      <td>Female</td>\n",
              "      <td>0</td>\n",
              "      <td>0</td>\n",
              "      <td>DSL</td>\n",
              "      <td>Two year</td>\n",
              "      <td>Mailed check</td>\n",
              "      <td>80.85</td>\n",
              "      <td></td>\n",
              "      <td>No</td>\n",
              "    </tr>\n",
              "    <tr>\n",
              "      <th>872</th>\n",
              "      <td>1371-DWPAZ</td>\n",
              "      <td>Female</td>\n",
              "      <td>0</td>\n",
              "      <td>0</td>\n",
              "      <td>DSL</td>\n",
              "      <td>Two year</td>\n",
              "      <td>Credit card (automatic)</td>\n",
              "      <td>56.05</td>\n",
              "      <td></td>\n",
              "      <td>No</td>\n",
              "    </tr>\n",
              "    <tr>\n",
              "      <th>2393</th>\n",
              "      <td>7644-OMVMY</td>\n",
              "      <td>Male</td>\n",
              "      <td>0</td>\n",
              "      <td>0</td>\n",
              "      <td>No</td>\n",
              "      <td>Two year</td>\n",
              "      <td>Mailed check</td>\n",
              "      <td>19.85</td>\n",
              "      <td></td>\n",
              "      <td>No</td>\n",
              "    </tr>\n",
              "    <tr>\n",
              "      <th>2779</th>\n",
              "      <td>3213-VVOLG</td>\n",
              "      <td>Male</td>\n",
              "      <td>0</td>\n",
              "      <td>0</td>\n",
              "      <td>No</td>\n",
              "      <td>Two year</td>\n",
              "      <td>Mailed check</td>\n",
              "      <td>25.35</td>\n",
              "      <td></td>\n",
              "      <td>No</td>\n",
              "    </tr>\n",
              "    <tr>\n",
              "      <th>3178</th>\n",
              "      <td>2520-SGTTA</td>\n",
              "      <td>Female</td>\n",
              "      <td>0</td>\n",
              "      <td>0</td>\n",
              "      <td>No</td>\n",
              "      <td>Two year</td>\n",
              "      <td>Mailed check</td>\n",
              "      <td>20.00</td>\n",
              "      <td></td>\n",
              "      <td>No</td>\n",
              "    </tr>\n",
              "    <tr>\n",
              "      <th>4016</th>\n",
              "      <td>2923-ARZLG</td>\n",
              "      <td>Male</td>\n",
              "      <td>0</td>\n",
              "      <td>0</td>\n",
              "      <td>No</td>\n",
              "      <td>One year</td>\n",
              "      <td>Mailed check</td>\n",
              "      <td>19.70</td>\n",
              "      <td></td>\n",
              "      <td>No</td>\n",
              "    </tr>\n",
              "    <tr>\n",
              "      <th>5410</th>\n",
              "      <td>4075-WKNIU</td>\n",
              "      <td>Female</td>\n",
              "      <td>0</td>\n",
              "      <td>0</td>\n",
              "      <td>DSL</td>\n",
              "      <td>Two year</td>\n",
              "      <td>Mailed check</td>\n",
              "      <td>73.35</td>\n",
              "      <td></td>\n",
              "      <td>No</td>\n",
              "    </tr>\n",
              "    <tr>\n",
              "      <th>5494</th>\n",
              "      <td>2775-SEFEE</td>\n",
              "      <td>Male</td>\n",
              "      <td>0</td>\n",
              "      <td>0</td>\n",
              "      <td>DSL</td>\n",
              "      <td>Two year</td>\n",
              "      <td>Bank transfer (automatic)</td>\n",
              "      <td>61.90</td>\n",
              "      <td></td>\n",
              "      <td>No</td>\n",
              "    </tr>\n",
              "  </tbody>\n",
              "</table>\n",
              "</div>"
            ],
            "text/plain": [
              "      customerID  gender  SeniorCitizen  ...  MonthlyCharges TotalCharges Churn\n",
              "236   4472-LVYGI  Female              0  ...           52.55                 No\n",
              "501   3115-CZMZD    Male              0  ...           20.25                 No\n",
              "684   5709-LVOEQ  Female              0  ...           80.85                 No\n",
              "872   1371-DWPAZ  Female              0  ...           56.05                 No\n",
              "2393  7644-OMVMY    Male              0  ...           19.85                 No\n",
              "2779  3213-VVOLG    Male              0  ...           25.35                 No\n",
              "3178  2520-SGTTA  Female              0  ...           20.00                 No\n",
              "4016  2923-ARZLG    Male              0  ...           19.70                 No\n",
              "5410  4075-WKNIU  Female              0  ...           73.35                 No\n",
              "5494  2775-SEFEE    Male              0  ...           61.90                 No\n",
              "\n",
              "[10 rows x 10 columns]"
            ]
          },
          "metadata": {
            "tags": []
          },
          "execution_count": 37
        }
      ]
    },
    {
      "cell_type": "code",
      "metadata": {
        "id": "BvK9b8Rl6PO_"
      },
      "source": [
        "#The error is being caused by a couple of spaces instead of values in the TotalCharges column\n",
        "#I'm removing those rows\n",
        "df1 = df1[df1['TotalCharges']!= ' ']"
      ],
      "execution_count": null,
      "outputs": []
    },
    {
      "cell_type": "code",
      "metadata": {
        "id": "eWL47xwt9LH3"
      },
      "source": [
        "#Now we try changing datatype\n",
        "df1['TotalCharges'] = df1['TotalCharges'].astype(float)"
      ],
      "execution_count": null,
      "outputs": []
    },
    {
      "cell_type": "code",
      "metadata": {
        "id": "wMZQo6Yn-2is",
        "outputId": "334e8796-11d1-44a6-9386-20a15ab42170",
        "colab": {
          "base_uri": "https://localhost:8080/",
          "height": 80
        }
      },
      "source": [
        "#Taking an example of where \"No internet service\" was repeated in a data row. Python was smart enough to rectify the error\n",
        "df1[df1['customerID']=='2569-WGERO']"
      ],
      "execution_count": null,
      "outputs": [
        {
          "output_type": "execute_result",
          "data": {
            "text/html": [
              "<div>\n",
              "<style scoped>\n",
              "    .dataframe tbody tr th:only-of-type {\n",
              "        vertical-align: middle;\n",
              "    }\n",
              "\n",
              "    .dataframe tbody tr th {\n",
              "        vertical-align: top;\n",
              "    }\n",
              "\n",
              "    .dataframe thead th {\n",
              "        text-align: right;\n",
              "    }\n",
              "</style>\n",
              "<table border=\"1\" class=\"dataframe\">\n",
              "  <thead>\n",
              "    <tr style=\"text-align: right;\">\n",
              "      <th></th>\n",
              "      <th>customerID</th>\n",
              "      <th>gender</th>\n",
              "      <th>SeniorCitizen</th>\n",
              "      <th>tenure</th>\n",
              "      <th>InternetService</th>\n",
              "      <th>Contract</th>\n",
              "      <th>PaymentMethod</th>\n",
              "      <th>MonthlyCharges</th>\n",
              "      <th>TotalCharges</th>\n",
              "      <th>Churn</th>\n",
              "    </tr>\n",
              "  </thead>\n",
              "  <tbody>\n",
              "    <tr>\n",
              "      <th>5668</th>\n",
              "      <td>2569-WGERO</td>\n",
              "      <td>Female</td>\n",
              "      <td>0</td>\n",
              "      <td>72</td>\n",
              "      <td>No</td>\n",
              "      <td>Two year</td>\n",
              "      <td>Bank transfer (automatic)</td>\n",
              "      <td>21.15</td>\n",
              "      <td>1419.4</td>\n",
              "      <td>No</td>\n",
              "    </tr>\n",
              "  </tbody>\n",
              "</table>\n",
              "</div>"
            ],
            "text/plain": [
              "      customerID  gender  SeniorCitizen  ...  MonthlyCharges TotalCharges Churn\n",
              "5668  2569-WGERO  Female              0  ...           21.15       1419.4    No\n",
              "\n",
              "[1 rows x 10 columns]"
            ]
          },
          "metadata": {
            "tags": []
          },
          "execution_count": 41
        }
      ]
    }
  ]
}